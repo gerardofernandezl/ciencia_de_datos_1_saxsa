{
 "cells": [
  {
   "cell_type": "markdown",
   "metadata": {},
   "source": [
    "# MySQL + SPARK\n",
    "\n",
    "![my-saprk](spark.png)\n",
    "\n",
    "El cuaderno ejemplifica la conección de spark con una base de datos relacional en este caso MySQL\n",
    "\n",
    "### Lectura de una tabla de mysql"
   ]
  },
  {
   "cell_type": "markdown",
   "metadata": {},
   "source": [
    "## Las fuentes de información que se ocupan en el ejercicio son datos de un concurso de kaggle sobre BIMBO"
   ]
  },
  {
   "cell_type": "code",
   "execution_count": null,
   "metadata": {},
   "outputs": [],
   "source": [
    "%%bash\n",
    "\n",
    "jps\n"
   ]
  },
  {
   "cell_type": "markdown",
   "metadata": {},
   "source": [
    "#### Conexion Spark BdRelacional"
   ]
  },
  {
   "cell_type": "code",
   "execution_count": null,
   "metadata": {},
   "outputs": [],
   "source": [
    "sc"
   ]
  },
  {
   "cell_type": "code",
   "execution_count": null,
   "metadata": {},
   "outputs": [],
   "source": [
    "from pyspark.sql import Row"
   ]
  },
  {
   "cell_type": "code",
   "execution_count": null,
   "metadata": {},
   "outputs": [],
   "source": [
    "df_ss = spark.read.format(\"jdbc\").options(\n",
    "    url=\"jdbc:mysql://localhost/bimbodb\",\n",
    "    driver=\"com.mysql.jdbc.Driver\",\n",
    "    dbtable=\"sample_submission\",\n",
    "    user=\"saxsauser\",\n",
    "    password=\"ggsaXsa\").load()"
   ]
  },
  {
   "cell_type": "code",
   "execution_count": null,
   "metadata": {},
   "outputs": [],
   "source": [
    "df_ss.describe().show()"
   ]
  },
  {
   "cell_type": "code",
   "execution_count": null,
   "metadata": {},
   "outputs": [],
   "source": [
    "df_ss.printSchema()"
   ]
  },
  {
   "cell_type": "code",
   "execution_count": null,
   "metadata": {},
   "outputs": [],
   "source": [
    "df_ss.createOrReplaceTempView('sample_submission')"
   ]
  },
  {
   "cell_type": "code",
   "execution_count": null,
   "metadata": {},
   "outputs": [],
   "source": [
    "%%sql\n",
    "SELECT Demanda_uni_equil, COUNT(Demanda_uni_equil) AS Apariciones FROM sample_submission GROUP BY Demanda_uni_equil"
   ]
  },
  {
   "cell_type": "code",
   "execution_count": null,
   "metadata": {},
   "outputs": [],
   "source": [
    "df_t = spark.read.format(\"jdbc\").options(\n",
    "    url=\"jdbc:mysql://localhost/bimbodb\",\n",
    "    driver=\"com.mysql.jdbc.Driver\",\n",
    "    dbtable=\"test\",\n",
    "    user=\"saxsauser\",\n",
    "    password=\"ggsaXsa\").load()"
   ]
  },
  {
   "cell_type": "code",
   "execution_count": null,
   "metadata": {},
   "outputs": [],
   "source": [
    "column = df_t.columns\n",
    "column"
   ]
  },
  {
   "cell_type": "code",
   "execution_count": null,
   "metadata": {},
   "outputs": [],
   "source": [
    "for col in column:\n",
    "    df_t.select(col).describe().show()"
   ]
  },
  {
   "cell_type": "code",
   "execution_count": null,
   "metadata": {},
   "outputs": [],
   "source": [
    "df_sel = df_t.select('Agencia_ID', 'Cliente_ID', 'Producto_ID')\n",
    "df_sel.show(20)"
   ]
  },
  {
   "cell_type": "code",
   "execution_count": null,
   "metadata": {},
   "outputs": [],
   "source": [
    "df_sel.select('Producto_ID').distinct().count()"
   ]
  },
  {
   "cell_type": "code",
   "execution_count": null,
   "metadata": {},
   "outputs": [],
   "source": [
    "df_wri = df_sel.groupby('Producto_ID').count().sort('count', ascending=False)\n",
    "df_wri.show()"
   ]
  },
  {
   "cell_type": "code",
   "execution_count": null,
   "metadata": {},
   "outputs": [],
   "source": [
    "df_wri.write.format(\"com.mongodb.spark.sql.DefaultSource\")\\\n",
    "    .mode(\"append\")\\\n",
    "    .option(\"spark.mongodb.input.uri\", \"mongodb://127.0.0.1/bimbodb.mysqltomongo?readPreference=primaryPreferred\")\\\n",
    "    .option(\"spark.mongodb.output.uri\", \"mongodb://127.0.0.1/bimbodb.mysqltomongo\").save()"
   ]
  },
  {
   "cell_type": "code",
   "execution_count": null,
   "metadata": {},
   "outputs": [],
   "source": []
  }
 ],
 "metadata": {
  "kernelspec": {
   "display_name": "PySpark3",
   "language": "",
   "name": "pyspark3kernel"
  },
  "language_info": {
   "codemirror_mode": {
    "name": "python",
    "version": 3
   },
   "mimetype": "text/x-python",
   "name": "pyspark3",
   "pygments_lexer": "python3"
  }
 },
 "nbformat": 4,
 "nbformat_minor": 2
}
