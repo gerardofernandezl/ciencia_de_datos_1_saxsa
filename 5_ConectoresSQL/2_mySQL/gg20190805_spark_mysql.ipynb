{
 "cells": [
  {
   "cell_type": "markdown",
   "metadata": {},
   "source": [
    "# MySQL + SPARK\n",
    "\n",
    "![my-saprk](spark.png)\n",
    "\n",
    "Este cuaderno muestra la conexión de SparkSQL con una base de datos relacional, el en caso presente utilizamos MySQL\n",
    "\n",
    "### Lectura de una tabla de mysql"
   ]
  },
  {
   "cell_type": "markdown",
   "metadata": {},
   "source": [
    "## Las fuentes de información que se ocupan en el ejercicio son datos de un concurso de kaggle sobre BIMBO"
   ]
  },
  {
   "cell_type": "code",
   "execution_count": 1,
   "metadata": {},
   "outputs": [
    {
     "name": "stdout",
     "output_type": "stream",
     "text": [
      "11363 SecondaryNameNode\n",
      "11539 Master\n",
      "11044 NameNode\n",
      "20778 Jps\n",
      "11612 Worker\n",
      "11725 LivyServer\n",
      "11167 DataNode\n"
     ]
    }
   ],
   "source": [
    "%%bash\n",
    "\n",
    "jps\n"
   ]
  },
  {
   "cell_type": "markdown",
   "metadata": {},
   "source": [
    "#### Conexion Spark BdRelacional"
   ]
  },
  {
   "cell_type": "code",
   "execution_count": 2,
   "metadata": {},
   "outputs": [
    {
     "name": "stdout",
     "output_type": "stream",
     "text": [
      "Starting Spark application\n"
     ]
    },
    {
     "data": {
      "text/html": [
       "<table>\n",
       "<tr><th>ID</th><th>YARN Application ID</th><th>Kind</th><th>State</th><th>Spark UI</th><th>Driver log</th><th>Current session?</th></tr><tr><td>6</td><td>None</td><td>pyspark3</td><td>idle</td><td></td><td></td><td>✔</td></tr></table>"
      ],
      "text/plain": [
       "<IPython.core.display.HTML object>"
      ]
     },
     "metadata": {},
     "output_type": "display_data"
    },
    {
     "name": "stdout",
     "output_type": "stream",
     "text": [
      "SparkSession available as 'spark'.\n",
      "<SparkContext master=spark://hostsaxsa:7077 appName=livy-session-6>"
     ]
    }
   ],
   "source": [
    "sc"
   ]
  },
  {
   "cell_type": "code",
   "execution_count": 3,
   "metadata": {},
   "outputs": [],
   "source": [
    "from pyspark.sql import Row"
   ]
  },
  {
   "cell_type": "code",
   "execution_count": 4,
   "metadata": {},
   "outputs": [],
   "source": [
    "df_ss = spark.read.format(\"jdbc\").options(\n",
    "    url=\"jdbc:mysql://localhost/bimbodb\",\n",
    "    driver=\"com.mysql.jdbc.Driver\",\n",
    "    dbtable=\"sample_submission\",\n",
    "    user=\"saxsauser\",\n",
    "    password=\"ggsaXsa\").load()"
   ]
  },
  {
   "cell_type": "code",
   "execution_count": 5,
   "metadata": {},
   "outputs": [
    {
     "name": "stdout",
     "output_type": "stream",
     "text": [
      "+-------+------------------+--------------------+\n",
      "|summary|                id|   Demanda_uni_equil|\n",
      "+-------+------------------+--------------------+\n",
      "|  count|           3500000|             3500000|\n",
      "|   mean|3500478.1217282857|            6.999998|\n",
      "| stddev|2020719.6132133713|0.003741657386773...|\n",
      "|    min|                 0|                   0|\n",
      "|    max|           6999247|                   7|\n",
      "+-------+------------------+--------------------+"
     ]
    }
   ],
   "source": [
    "df_ss.describe().show()"
   ]
  },
  {
   "cell_type": "code",
   "execution_count": 6,
   "metadata": {},
   "outputs": [
    {
     "name": "stdout",
     "output_type": "stream",
     "text": [
      "root\n",
      " |-- id: integer (nullable = true)\n",
      " |-- Demanda_uni_equil: integer (nullable = true)"
     ]
    }
   ],
   "source": [
    "df_ss.printSchema()"
   ]
  },
  {
   "cell_type": "code",
   "execution_count": 7,
   "metadata": {},
   "outputs": [],
   "source": [
    "df_ss.createOrReplaceTempView('sample_submission')"
   ]
  },
  {
   "cell_type": "code",
   "execution_count": 8,
   "metadata": {},
   "outputs": [
    {
     "data": {
      "application/vnd.jupyter.widget-view+json": {
       "model_id": "12611b5aa5f84a76b86edacb8f09fe69",
       "version_major": 2,
       "version_minor": 0
      },
      "text/plain": [
       "VBox(children=(HBox(children=(HTML(value='Type:'), Button(description='Table', layout=Layout(width='70px'), st…"
      ]
     },
     "metadata": {},
     "output_type": "display_data"
    },
    {
     "data": {
      "application/vnd.jupyter.widget-view+json": {
       "model_id": "b98aa13049244fa0bbd90e80b8bd13cb",
       "version_major": 2,
       "version_minor": 0
      },
      "text/plain": [
       "Output()"
      ]
     },
     "metadata": {},
     "output_type": "display_data"
    }
   ],
   "source": [
    "%%sql\n",
    "SELECT Demanda_uni_equil, COUNT(Demanda_uni_equil) AS Apariciones FROM sample_submission GROUP BY Demanda_uni_equil"
   ]
  },
  {
   "cell_type": "code",
   "execution_count": 9,
   "metadata": {},
   "outputs": [],
   "source": [
    "df_t = spark.read.format(\"jdbc\").options(\n",
    "    url=\"jdbc:mysql://localhost/bimbodb\",\n",
    "    driver=\"com.mysql.jdbc.Driver\",\n",
    "    dbtable=\"test\",\n",
    "    user=\"saxsauser\",\n",
    "    password=\"ggsaXsa\").load()"
   ]
  },
  {
   "cell_type": "code",
   "execution_count": 10,
   "metadata": {},
   "outputs": [
    {
     "name": "stdout",
     "output_type": "stream",
     "text": [
      "['id', 'Semana', 'Agencia_ID', 'Canal_ID', 'Ruta_SAK', 'Cliente_ID', 'Producto_ID']"
     ]
    }
   ],
   "source": [
    "column = df_t.columns\n",
    "column"
   ]
  },
  {
   "cell_type": "code",
   "execution_count": 11,
   "metadata": {},
   "outputs": [
    {
     "name": "stdout",
     "output_type": "stream",
     "text": [
      "+-------+-----------------+\n",
      "|summary|               id|\n",
      "+-------+-----------------+\n",
      "|  count|          3500000|\n",
      "|   mean|3498583.557187714|\n",
      "| stddev|2020471.762325858|\n",
      "|    min|                0|\n",
      "|    max|          6999250|\n",
      "+-------+-----------------+\n",
      "\n",
      "+-------+------------------+\n",
      "|summary|            Semana|\n",
      "+-------+------------------+\n",
      "|  count|           3500000|\n",
      "|   mean|         10.494304|\n",
      "| stddev|0.4999990555828539|\n",
      "|    min|                 0|\n",
      "|    max|                11|\n",
      "+-------+------------------+\n",
      "\n",
      "+-------+-----------------+\n",
      "|summary|       Agencia_ID|\n",
      "+-------+-----------------+\n",
      "|  count|          3500000|\n",
      "|   mean|2504.166604857143|\n",
      "| stddev| 4009.29680864309|\n",
      "|    min|                0|\n",
      "|    max|            25759|\n",
      "+-------+-----------------+\n",
      "\n",
      "+-------+------------------+\n",
      "|summary|          Canal_ID|\n",
      "+-------+------------------+\n",
      "|  count|           3500000|\n",
      "|   mean|1.4022545714285715|\n",
      "| stddev|1.5149633380090768|\n",
      "|    min|                 0|\n",
      "|    max|                11|\n",
      "+-------+------------------+\n",
      "\n",
      "+-------+------------------+\n",
      "|summary|          Ruta_SAK|\n",
      "+-------+------------------+\n",
      "|  count|           3500000|\n",
      "|   mean|2137.3678208571428|\n",
      "| stddev|1499.2394963823833|\n",
      "|    min|                 0|\n",
      "|    max|              9950|\n",
      "+-------+------------------+\n",
      "\n",
      "+-------+------------------+\n",
      "|summary|        Cliente_ID|\n",
      "+-------+------------------+\n",
      "|  count|           3500000|\n",
      "|   mean|1820221.4311554285|\n",
      "| stddev|2838936.0248101894|\n",
      "|    min|                 0|\n",
      "|    max|        2015152015|\n",
      "+-------+------------------+\n",
      "\n",
      "+-------+------------------+\n",
      "|summary|       Producto_ID|\n",
      "+-------+------------------+\n",
      "|  count|           3500000|\n",
      "|   mean|22171.356822857142|\n",
      "| stddev|18696.598511468677|\n",
      "|    min|                 0|\n",
      "|    max|             49996|\n",
      "+-------+------------------+"
     ]
    }
   ],
   "source": [
    "for col in column:\n",
    "    df_t.select(col).describe().show()"
   ]
  },
  {
   "cell_type": "code",
   "execution_count": 12,
   "metadata": {},
   "outputs": [
    {
     "name": "stdout",
     "output_type": "stream",
     "text": [
      "+----------+----------+-----------+\n",
      "|Agencia_ID|Cliente_ID|Producto_ID|\n",
      "+----------+----------+-----------+\n",
      "|      1420|   1875998|      34213|\n",
      "|      4010|   1661843|      30549|\n",
      "|      1375|   1234559|      43307|\n",
      "|      1531|    158133|      35303|\n",
      "|      1544|   2309256|       2233|\n",
      "|      1629|   4527410|      41938|\n",
      "|      1470|   4435970|      36610|\n",
      "|      1122|   2055889|       1109|\n",
      "|      2032|   4200375|       1212|\n",
      "|      1216|   4522344|      35305|\n",
      "|      1315|   4573216|      37361|\n",
      "|      1955|    573512|      43064|\n",
      "|      1338|    198309|      43274|\n",
      "|      2644|    273971|       4270|\n",
      "|      2014|    276970|      45143|\n",
      "|      2011|    126719|       1160|\n",
      "|      4063|   2451950|      43344|\n",
      "|      1221|     58826|      30532|\n",
      "|      1124|   1590017|       1109|\n",
      "|      1954|   1101612|       1146|\n",
      "+----------+----------+-----------+\n",
      "only showing top 20 rows"
     ]
    }
   ],
   "source": [
    "df_sel = df_t.select('Agencia_ID', 'Cliente_ID', 'Producto_ID')\n",
    "df_sel.show(20)"
   ]
  },
  {
   "cell_type": "code",
   "execution_count": 13,
   "metadata": {},
   "outputs": [
    {
     "name": "stdout",
     "output_type": "stream",
     "text": [
      "1426"
     ]
    }
   ],
   "source": [
    "df_sel.select('Producto_ID').distinct().count()"
   ]
  },
  {
   "cell_type": "code",
   "execution_count": 14,
   "metadata": {},
   "outputs": [
    {
     "name": "stdout",
     "output_type": "stream",
     "text": [
      "+-----------+-----+\n",
      "|Producto_ID|count|\n",
      "+-----------+-----+\n",
      "|       2233|94763|\n",
      "|       1242|85109|\n",
      "|       1250|77308|\n",
      "|      35305|72972|\n",
      "|       1240|69454|\n",
      "|       1146|68716|\n",
      "|       1109|65984|\n",
      "|       1232|64003|\n",
      "|       1125|62965|\n",
      "|       1278|61439|\n",
      "|      43069|61207|\n",
      "|      43285|58953|\n",
      "|       1284|56728|\n",
      "|      30532|55688|\n",
      "|      35651|52796|\n",
      "|       1212|51713|\n",
      "|       1238|50749|\n",
      "|       1150|50480|\n",
      "|       1309|48998|\n",
      "|      37361|48087|\n",
      "+-----------+-----+\n",
      "only showing top 20 rows"
     ]
    }
   ],
   "source": [
    "df_wri = df_sel.groupby('Producto_ID').count().sort('count', ascending=False)\n",
    "df_wri.show()"
   ]
  },
  {
   "cell_type": "markdown",
   "metadata": {},
   "source": [
    "### Escribir una tabla en mysql"
   ]
  },
  {
   "cell_type": "code",
   "execution_count": 15,
   "metadata": {},
   "outputs": [],
   "source": [
    "df_wri.write.format(\"jdbc\").options(\n",
    "    url=\"jdbc:mysql://localhost/bimbodb\",\n",
    "    driver=\"com.mysql.jdbc.Driver\",\n",
    "    dbtable=\"tabla_escrita\",\n",
    "    user=\"saxsauser\",\n",
    "    password=\"ggsaXsa\").mode('append').save()"
   ]
  },
  {
   "cell_type": "code",
   "execution_count": 16,
   "metadata": {},
   "outputs": [
    {
     "name": "stdout",
     "output_type": "stream",
     "text": [
      "Found 1 items\n",
      "drwxr-xr-x   - saxsa supergroup          0 2019-08-05 15:43 /FuentesCurso\n"
     ]
    }
   ],
   "source": [
    "%%bash\n",
    "\n",
    "hdfs dfs -ls /"
   ]
  },
  {
   "cell_type": "code",
   "execution_count": 17,
   "metadata": {},
   "outputs": [],
   "source": [
    "df_wri.write.parquet('/consulta_parquet')"
   ]
  },
  {
   "cell_type": "code",
   "execution_count": 21,
   "metadata": {},
   "outputs": [
    {
     "name": "stdout",
     "output_type": "stream",
     "text": [
      "Found 150 items\n",
      "-rw-r--r--   1 saxsa supergroup          0 2019-08-05 23:38 /consulta_parquet/_SUCCESS\n",
      "-rw-r--r--   1 saxsa supergroup        654 2019-08-05 23:37 /consulta_parquet/part-00000-fc69a552-8608-4a3a-bec3-caf99c434222-c000.snappy.parquet\n",
      "-rw-r--r--   1 saxsa supergroup        645 2019-08-05 23:37 /consulta_parquet/part-00001-fc69a552-8608-4a3a-bec3-caf99c434222-c000.snappy.parquet\n",
      "-rw-r--r--   1 saxsa supergroup        644 2019-08-05 23:37 /consulta_parquet/part-00002-fc69a552-8608-4a3a-bec3-caf99c434222-c000.snappy.parquet\n",
      "-rw-r--r--   1 saxsa supergroup        644 2019-08-05 23:37 /consulta_parquet/part-00003-fc69a552-8608-4a3a-bec3-caf99c434222-c000.snappy.parquet\n",
      "-rw-r--r--   1 saxsa supergroup        643 2019-08-05 23:37 /consulta_parquet/part-00004-fc69a552-8608-4a3a-bec3-caf99c434222-c000.snappy.parquet\n",
      "-rw-r--r--   1 saxsa supergroup        643 2019-08-05 23:37 /consulta_parquet/part-00005-fc69a552-8608-4a3a-bec3-caf99c434222-c000.snappy.parquet\n",
      "-rw-r--r--   1 saxsa supergroup        644 2019-08-05 23:37 /consulta_parquet/part-00006-fc69a552-8608-4a3a-bec3-caf99c434222-c000.snappy.parquet\n",
      "-rw-r--r--   1 saxsa supergroup        653 2019-08-05 23:37 /consulta_parquet/part-00007-fc69a552-8608-4a3a-bec3-caf99c434222-c000.snappy.parquet\n",
      "-rw-r--r--   1 saxsa supergroup        643 2019-08-05 23:37 /consulta_parquet/part-00008-fc69a552-8608-4a3a-bec3-caf99c434222-c000.snappy.parquet\n",
      "-rw-r--r--   1 saxsa supergroup        642 2019-08-05 23:37 /consulta_parquet/part-00009-fc69a552-8608-4a3a-bec3-caf99c434222-c000.snappy.parquet\n",
      "-rw-r--r--   1 saxsa supergroup        642 2019-08-05 23:37 /consulta_parquet/part-00010-fc69a552-8608-4a3a-bec3-caf99c434222-c000.snappy.parquet\n",
      "-rw-r--r--   1 saxsa supergroup        641 2019-08-05 23:37 /consulta_parquet/part-00011-fc69a552-8608-4a3a-bec3-caf99c434222-c000.snappy.parquet\n",
      "-rw-r--r--   1 saxsa supergroup        673 2019-08-05 23:37 /consulta_parquet/part-00012-fc69a552-8608-4a3a-bec3-caf99c434222-c000.snappy.parquet\n",
      "-rw-r--r--   1 saxsa supergroup        632 2019-08-05 23:37 /consulta_parquet/part-00013-fc69a552-8608-4a3a-bec3-caf99c434222-c000.snappy.parquet\n",
      "-rw-r--r--   1 saxsa supergroup        641 2019-08-05 23:37 /consulta_parquet/part-00014-fc69a552-8608-4a3a-bec3-caf99c434222-c000.snappy.parquet\n",
      "-rw-r--r--   1 saxsa supergroup        652 2019-08-05 23:37 /consulta_parquet/part-00015-fc69a552-8608-4a3a-bec3-caf99c434222-c000.snappy.parquet\n",
      "-rw-r--r--   1 saxsa supergroup        662 2019-08-05 23:37 /consulta_parquet/part-00016-fc69a552-8608-4a3a-bec3-caf99c434222-c000.snappy.parquet\n",
      "-rw-r--r--   1 saxsa supergroup        641 2019-08-05 23:37 /consulta_parquet/part-00017-fc69a552-8608-4a3a-bec3-caf99c434222-c000.snappy.parquet\n",
      "-rw-r--r--   1 saxsa supergroup        642 2019-08-05 23:37 /consulta_parquet/part-00018-fc69a552-8608-4a3a-bec3-caf99c434222-c000.snappy.parquet\n",
      "-rw-r--r--   1 saxsa supergroup        641 2019-08-05 23:37 /consulta_parquet/part-00019-fc69a552-8608-4a3a-bec3-caf99c434222-c000.snappy.parquet\n",
      "-rw-r--r--   1 saxsa supergroup        641 2019-08-05 23:37 /consulta_parquet/part-00020-fc69a552-8608-4a3a-bec3-caf99c434222-c000.snappy.parquet\n",
      "-rw-r--r--   1 saxsa supergroup        639 2019-08-05 23:37 /consulta_parquet/part-00021-fc69a552-8608-4a3a-bec3-caf99c434222-c000.snappy.parquet\n",
      "-rw-r--r--   1 saxsa supergroup        641 2019-08-05 23:37 /consulta_parquet/part-00022-fc69a552-8608-4a3a-bec3-caf99c434222-c000.snappy.parquet\n",
      "-rw-r--r--   1 saxsa supergroup        651 2019-08-05 23:37 /consulta_parquet/part-00023-fc69a552-8608-4a3a-bec3-caf99c434222-c000.snappy.parquet\n",
      "-rw-r--r--   1 saxsa supergroup        664 2019-08-05 23:37 /consulta_parquet/part-00024-fc69a552-8608-4a3a-bec3-caf99c434222-c000.snappy.parquet\n",
      "-rw-r--r--   1 saxsa supergroup        639 2019-08-05 23:37 /consulta_parquet/part-00025-fc69a552-8608-4a3a-bec3-caf99c434222-c000.snappy.parquet\n",
      "-rw-r--r--   1 saxsa supergroup        641 2019-08-05 23:37 /consulta_parquet/part-00026-fc69a552-8608-4a3a-bec3-caf99c434222-c000.snappy.parquet\n",
      "-rw-r--r--   1 saxsa supergroup        641 2019-08-05 23:37 /consulta_parquet/part-00027-fc69a552-8608-4a3a-bec3-caf99c434222-c000.snappy.parquet\n",
      "-rw-r--r--   1 saxsa supergroup        639 2019-08-05 23:37 /consulta_parquet/part-00028-fc69a552-8608-4a3a-bec3-caf99c434222-c000.snappy.parquet\n",
      "-rw-r--r--   1 saxsa supergroup        639 2019-08-05 23:37 /consulta_parquet/part-00029-fc69a552-8608-4a3a-bec3-caf99c434222-c000.snappy.parquet\n",
      "-rw-r--r--   1 saxsa supergroup        648 2019-08-05 23:37 /consulta_parquet/part-00030-fc69a552-8608-4a3a-bec3-caf99c434222-c000.snappy.parquet\n",
      "-rw-r--r--   1 saxsa supergroup        641 2019-08-05 23:37 /consulta_parquet/part-00031-fc69a552-8608-4a3a-bec3-caf99c434222-c000.snappy.parquet\n",
      "-rw-r--r--   1 saxsa supergroup        670 2019-08-05 23:37 /consulta_parquet/part-00032-fc69a552-8608-4a3a-bec3-caf99c434222-c000.snappy.parquet\n",
      "-rw-r--r--   1 saxsa supergroup        630 2019-08-05 23:37 /consulta_parquet/part-00033-fc69a552-8608-4a3a-bec3-caf99c434222-c000.snappy.parquet\n",
      "-rw-r--r--   1 saxsa supergroup        639 2019-08-05 23:37 /consulta_parquet/part-00034-fc69a552-8608-4a3a-bec3-caf99c434222-c000.snappy.parquet\n",
      "-rw-r--r--   1 saxsa supergroup        641 2019-08-05 23:37 /consulta_parquet/part-00035-fc69a552-8608-4a3a-bec3-caf99c434222-c000.snappy.parquet\n",
      "-rw-r--r--   1 saxsa supergroup        639 2019-08-05 23:37 /consulta_parquet/part-00036-fc69a552-8608-4a3a-bec3-caf99c434222-c000.snappy.parquet\n",
      "-rw-r--r--   1 saxsa supergroup        670 2019-08-05 23:37 /consulta_parquet/part-00037-fc69a552-8608-4a3a-bec3-caf99c434222-c000.snappy.parquet\n",
      "-rw-r--r--   1 saxsa supergroup        639 2019-08-05 23:37 /consulta_parquet/part-00038-fc69a552-8608-4a3a-bec3-caf99c434222-c000.snappy.parquet\n",
      "-rw-r--r--   1 saxsa supergroup        639 2019-08-05 23:37 /consulta_parquet/part-00039-fc69a552-8608-4a3a-bec3-caf99c434222-c000.snappy.parquet\n",
      "-rw-r--r--   1 saxsa supergroup        639 2019-08-05 23:37 /consulta_parquet/part-00040-fc69a552-8608-4a3a-bec3-caf99c434222-c000.snappy.parquet\n",
      "-rw-r--r--   1 saxsa supergroup        662 2019-08-05 23:37 /consulta_parquet/part-00041-fc69a552-8608-4a3a-bec3-caf99c434222-c000.snappy.parquet\n",
      "-rw-r--r--   1 saxsa supergroup        630 2019-08-05 23:37 /consulta_parquet/part-00042-fc69a552-8608-4a3a-bec3-caf99c434222-c000.snappy.parquet\n",
      "-rw-r--r--   1 saxsa supergroup        639 2019-08-05 23:37 /consulta_parquet/part-00043-fc69a552-8608-4a3a-bec3-caf99c434222-c000.snappy.parquet\n",
      "-rw-r--r--   1 saxsa supergroup        641 2019-08-05 23:37 /consulta_parquet/part-00044-fc69a552-8608-4a3a-bec3-caf99c434222-c000.snappy.parquet\n",
      "-rw-r--r--   1 saxsa supergroup        662 2019-08-05 23:37 /consulta_parquet/part-00045-fc69a552-8608-4a3a-bec3-caf99c434222-c000.snappy.parquet\n",
      "-rw-r--r--   1 saxsa supergroup        648 2019-08-05 23:37 /consulta_parquet/part-00046-fc69a552-8608-4a3a-bec3-caf99c434222-c000.snappy.parquet\n",
      "-rw-r--r--   1 saxsa supergroup        662 2019-08-05 23:37 /consulta_parquet/part-00047-fc69a552-8608-4a3a-bec3-caf99c434222-c000.snappy.parquet\n",
      "-rw-r--r--   1 saxsa supergroup        662 2019-08-05 23:37 /consulta_parquet/part-00048-fc69a552-8608-4a3a-bec3-caf99c434222-c000.snappy.parquet\n",
      "-rw-r--r--   1 saxsa supergroup        639 2019-08-05 23:37 /consulta_parquet/part-00049-fc69a552-8608-4a3a-bec3-caf99c434222-c000.snappy.parquet\n",
      "-rw-r--r--   1 saxsa supergroup        662 2019-08-05 23:37 /consulta_parquet/part-00050-fc69a552-8608-4a3a-bec3-caf99c434222-c000.snappy.parquet\n",
      "-rw-r--r--   1 saxsa supergroup        641 2019-08-05 23:37 /consulta_parquet/part-00051-fc69a552-8608-4a3a-bec3-caf99c434222-c000.snappy.parquet\n",
      "-rw-r--r--   1 saxsa supergroup        662 2019-08-05 23:37 /consulta_parquet/part-00052-fc69a552-8608-4a3a-bec3-caf99c434222-c000.snappy.parquet\n",
      "-rw-r--r--   1 saxsa supergroup        648 2019-08-05 23:37 /consulta_parquet/part-00053-fc69a552-8608-4a3a-bec3-caf99c434222-c000.snappy.parquet\n",
      "-rw-r--r--   1 saxsa supergroup        639 2019-08-05 23:37 /consulta_parquet/part-00054-fc69a552-8608-4a3a-bec3-caf99c434222-c000.snappy.parquet\n",
      "-rw-r--r--   1 saxsa supergroup        662 2019-08-05 23:37 /consulta_parquet/part-00055-fc69a552-8608-4a3a-bec3-caf99c434222-c000.snappy.parquet\n",
      "-rw-r--r--   1 saxsa supergroup        639 2019-08-05 23:37 /consulta_parquet/part-00056-fc69a552-8608-4a3a-bec3-caf99c434222-c000.snappy.parquet\n",
      "-rw-r--r--   1 saxsa supergroup        639 2019-08-05 23:37 /consulta_parquet/part-00057-fc69a552-8608-4a3a-bec3-caf99c434222-c000.snappy.parquet\n",
      "-rw-r--r--   1 saxsa supergroup        658 2019-08-05 23:37 /consulta_parquet/part-00058-fc69a552-8608-4a3a-bec3-caf99c434222-c000.snappy.parquet\n",
      "-rw-r--r--   1 saxsa supergroup        658 2019-08-05 23:37 /consulta_parquet/part-00059-fc69a552-8608-4a3a-bec3-caf99c434222-c000.snappy.parquet\n",
      "-rw-r--r--   1 saxsa supergroup        658 2019-08-05 23:37 /consulta_parquet/part-00060-fc69a552-8608-4a3a-bec3-caf99c434222-c000.snappy.parquet\n",
      "-rw-r--r--   1 saxsa supergroup        670 2019-08-05 23:37 /consulta_parquet/part-00061-fc69a552-8608-4a3a-bec3-caf99c434222-c000.snappy.parquet\n",
      "-rw-r--r--   1 saxsa supergroup        658 2019-08-05 23:37 /consulta_parquet/part-00062-fc69a552-8608-4a3a-bec3-caf99c434222-c000.snappy.parquet\n",
      "-rw-r--r--   1 saxsa supergroup        662 2019-08-05 23:37 /consulta_parquet/part-00063-fc69a552-8608-4a3a-bec3-caf99c434222-c000.snappy.parquet\n",
      "-rw-r--r--   1 saxsa supergroup        662 2019-08-05 23:37 /consulta_parquet/part-00064-fc69a552-8608-4a3a-bec3-caf99c434222-c000.snappy.parquet\n",
      "-rw-r--r--   1 saxsa supergroup        653 2019-08-05 23:37 /consulta_parquet/part-00065-fc69a552-8608-4a3a-bec3-caf99c434222-c000.snappy.parquet\n",
      "-rw-r--r--   1 saxsa supergroup        653 2019-08-05 23:37 /consulta_parquet/part-00066-fc69a552-8608-4a3a-bec3-caf99c434222-c000.snappy.parquet\n",
      "-rw-r--r--   1 saxsa supergroup        672 2019-08-05 23:37 /consulta_parquet/part-00067-fc69a552-8608-4a3a-bec3-caf99c434222-c000.snappy.parquet\n",
      "-rw-r--r--   1 saxsa supergroup        662 2019-08-05 23:37 /consulta_parquet/part-00068-fc69a552-8608-4a3a-bec3-caf99c434222-c000.snappy.parquet\n",
      "-rw-r--r--   1 saxsa supergroup        639 2019-08-05 23:37 /consulta_parquet/part-00069-fc69a552-8608-4a3a-bec3-caf99c434222-c000.snappy.parquet\n",
      "-rw-r--r--   1 saxsa supergroup        653 2019-08-05 23:37 /consulta_parquet/part-00070-fc69a552-8608-4a3a-bec3-caf99c434222-c000.snappy.parquet\n",
      "-rw-r--r--   1 saxsa supergroup        653 2019-08-05 23:37 /consulta_parquet/part-00071-fc69a552-8608-4a3a-bec3-caf99c434222-c000.snappy.parquet\n",
      "-rw-r--r--   1 saxsa supergroup        658 2019-08-05 23:37 /consulta_parquet/part-00072-fc69a552-8608-4a3a-bec3-caf99c434222-c000.snappy.parquet\n",
      "-rw-r--r--   1 saxsa supergroup        662 2019-08-05 23:37 /consulta_parquet/part-00073-fc69a552-8608-4a3a-bec3-caf99c434222-c000.snappy.parquet\n",
      "-rw-r--r--   1 saxsa supergroup        657 2019-08-05 23:37 /consulta_parquet/part-00074-fc69a552-8608-4a3a-bec3-caf99c434222-c000.snappy.parquet\n",
      "-rw-r--r--   1 saxsa supergroup        653 2019-08-05 23:37 /consulta_parquet/part-00075-fc69a552-8608-4a3a-bec3-caf99c434222-c000.snappy.parquet\n",
      "-rw-r--r--   1 saxsa supergroup        669 2019-08-05 23:37 /consulta_parquet/part-00076-fc69a552-8608-4a3a-bec3-caf99c434222-c000.snappy.parquet\n",
      "-rw-r--r--   1 saxsa supergroup        658 2019-08-05 23:37 /consulta_parquet/part-00077-fc69a552-8608-4a3a-bec3-caf99c434222-c000.snappy.parquet\n",
      "-rw-r--r--   1 saxsa supergroup        648 2019-08-05 23:37 /consulta_parquet/part-00078-fc69a552-8608-4a3a-bec3-caf99c434222-c000.snappy.parquet\n",
      "-rw-r--r--   1 saxsa supergroup        662 2019-08-05 23:37 /consulta_parquet/part-00079-fc69a552-8608-4a3a-bec3-caf99c434222-c000.snappy.parquet\n",
      "-rw-r--r--   1 saxsa supergroup        648 2019-08-05 23:37 /consulta_parquet/part-00080-fc69a552-8608-4a3a-bec3-caf99c434222-c000.snappy.parquet\n",
      "-rw-r--r--   1 saxsa supergroup        673 2019-08-05 23:37 /consulta_parquet/part-00081-fc69a552-8608-4a3a-bec3-caf99c434222-c000.snappy.parquet\n",
      "-rw-r--r--   1 saxsa supergroup        626 2019-08-05 23:37 /consulta_parquet/part-00082-fc69a552-8608-4a3a-bec3-caf99c434222-c000.snappy.parquet\n",
      "-rw-r--r--   1 saxsa supergroup        658 2019-08-05 23:37 /consulta_parquet/part-00083-fc69a552-8608-4a3a-bec3-caf99c434222-c000.snappy.parquet\n",
      "-rw-r--r--   1 saxsa supergroup        666 2019-08-05 23:37 /consulta_parquet/part-00084-fc69a552-8608-4a3a-bec3-caf99c434222-c000.snappy.parquet\n",
      "-rw-r--r--   1 saxsa supergroup        642 2019-08-05 23:37 /consulta_parquet/part-00085-fc69a552-8608-4a3a-bec3-caf99c434222-c000.snappy.parquet\n",
      "-rw-r--r--   1 saxsa supergroup        609 2019-08-05 23:37 /consulta_parquet/part-00086-fc69a552-8608-4a3a-bec3-caf99c434222-c000.snappy.parquet\n",
      "-rw-r--r--   1 saxsa supergroup        648 2019-08-05 23:37 /consulta_parquet/part-00087-fc69a552-8608-4a3a-bec3-caf99c434222-c000.snappy.parquet\n",
      "-rw-r--r--   1 saxsa supergroup        658 2019-08-05 23:37 /consulta_parquet/part-00088-fc69a552-8608-4a3a-bec3-caf99c434222-c000.snappy.parquet\n",
      "-rw-r--r--   1 saxsa supergroup        643 2019-08-05 23:37 /consulta_parquet/part-00089-fc69a552-8608-4a3a-bec3-caf99c434222-c000.snappy.parquet\n",
      "-rw-r--r--   1 saxsa supergroup        648 2019-08-05 23:37 /consulta_parquet/part-00090-fc69a552-8608-4a3a-bec3-caf99c434222-c000.snappy.parquet\n",
      "-rw-r--r--   1 saxsa supergroup        653 2019-08-05 23:37 /consulta_parquet/part-00091-fc69a552-8608-4a3a-bec3-caf99c434222-c000.snappy.parquet\n",
      "-rw-r--r--   1 saxsa supergroup        657 2019-08-05 23:37 /consulta_parquet/part-00092-fc69a552-8608-4a3a-bec3-caf99c434222-c000.snappy.parquet\n",
      "-rw-r--r--   1 saxsa supergroup        648 2019-08-05 23:37 /consulta_parquet/part-00093-fc69a552-8608-4a3a-bec3-caf99c434222-c000.snappy.parquet\n",
      "-rw-r--r--   1 saxsa supergroup        663 2019-08-05 23:37 /consulta_parquet/part-00094-fc69a552-8608-4a3a-bec3-caf99c434222-c000.snappy.parquet\n",
      "-rw-r--r--   1 saxsa supergroup        623 2019-08-05 23:37 /consulta_parquet/part-00095-fc69a552-8608-4a3a-bec3-caf99c434222-c000.snappy.parquet\n",
      "-rw-r--r--   1 saxsa supergroup        662 2019-08-05 23:37 /consulta_parquet/part-00096-fc69a552-8608-4a3a-bec3-caf99c434222-c000.snappy.parquet\n",
      "-rw-r--r--   1 saxsa supergroup        646 2019-08-05 23:37 /consulta_parquet/part-00097-fc69a552-8608-4a3a-bec3-caf99c434222-c000.snappy.parquet\n",
      "-rw-r--r--   1 saxsa supergroup        623 2019-08-05 23:37 /consulta_parquet/part-00098-fc69a552-8608-4a3a-bec3-caf99c434222-c000.snappy.parquet\n",
      "-rw-r--r--   1 saxsa supergroup        632 2019-08-05 23:37 /consulta_parquet/part-00099-fc69a552-8608-4a3a-bec3-caf99c434222-c000.snappy.parquet\n",
      "-rw-r--r--   1 saxsa supergroup        658 2019-08-05 23:37 /consulta_parquet/part-00100-fc69a552-8608-4a3a-bec3-caf99c434222-c000.snappy.parquet\n",
      "-rw-r--r--   1 saxsa supergroup        652 2019-08-05 23:37 /consulta_parquet/part-00101-fc69a552-8608-4a3a-bec3-caf99c434222-c000.snappy.parquet\n",
      "-rw-r--r--   1 saxsa supergroup        623 2019-08-05 23:37 /consulta_parquet/part-00102-fc69a552-8608-4a3a-bec3-caf99c434222-c000.snappy.parquet\n",
      "-rw-r--r--   1 saxsa supergroup        651 2019-08-05 23:37 /consulta_parquet/part-00103-fc69a552-8608-4a3a-bec3-caf99c434222-c000.snappy.parquet\n",
      "-rw-r--r--   1 saxsa supergroup        638 2019-08-05 23:37 /consulta_parquet/part-00104-fc69a552-8608-4a3a-bec3-caf99c434222-c000.snappy.parquet\n",
      "-rw-r--r--   1 saxsa supergroup        658 2019-08-05 23:37 /consulta_parquet/part-00105-fc69a552-8608-4a3a-bec3-caf99c434222-c000.snappy.parquet\n",
      "-rw-r--r--   1 saxsa supergroup        628 2019-08-05 23:37 /consulta_parquet/part-00106-fc69a552-8608-4a3a-bec3-caf99c434222-c000.snappy.parquet\n",
      "-rw-r--r--   1 saxsa supergroup        667 2019-08-05 23:37 /consulta_parquet/part-00107-fc69a552-8608-4a3a-bec3-caf99c434222-c000.snappy.parquet\n",
      "-rw-r--r--   1 saxsa supergroup        617 2019-08-05 23:37 /consulta_parquet/part-00108-fc69a552-8608-4a3a-bec3-caf99c434222-c000.snappy.parquet\n",
      "-rw-r--r--   1 saxsa supergroup        658 2019-08-05 23:37 /consulta_parquet/part-00109-fc69a552-8608-4a3a-bec3-caf99c434222-c000.snappy.parquet\n",
      "-rw-r--r--   1 saxsa supergroup        632 2019-08-05 23:37 /consulta_parquet/part-00110-fc69a552-8608-4a3a-bec3-caf99c434222-c000.snappy.parquet\n",
      "-rw-r--r--   1 saxsa supergroup        667 2019-08-05 23:37 /consulta_parquet/part-00111-fc69a552-8608-4a3a-bec3-caf99c434222-c000.snappy.parquet\n",
      "-rw-r--r--   1 saxsa supergroup        623 2019-08-05 23:37 /consulta_parquet/part-00112-fc69a552-8608-4a3a-bec3-caf99c434222-c000.snappy.parquet\n",
      "-rw-r--r--   1 saxsa supergroup        642 2019-08-05 23:37 /consulta_parquet/part-00113-fc69a552-8608-4a3a-bec3-caf99c434222-c000.snappy.parquet\n",
      "-rw-r--r--   1 saxsa supergroup        623 2019-08-05 23:37 /consulta_parquet/part-00114-fc69a552-8608-4a3a-bec3-caf99c434222-c000.snappy.parquet\n",
      "-rw-r--r--   1 saxsa supergroup        659 2019-08-05 23:37 /consulta_parquet/part-00115-fc69a552-8608-4a3a-bec3-caf99c434222-c000.snappy.parquet\n",
      "-rw-r--r--   1 saxsa supergroup        633 2019-08-05 23:37 /consulta_parquet/part-00116-fc69a552-8608-4a3a-bec3-caf99c434222-c000.snappy.parquet\n",
      "-rw-r--r--   1 saxsa supergroup        617 2019-08-05 23:37 /consulta_parquet/part-00117-fc69a552-8608-4a3a-bec3-caf99c434222-c000.snappy.parquet\n",
      "-rw-r--r--   1 saxsa supergroup        655 2019-08-05 23:37 /consulta_parquet/part-00118-fc69a552-8608-4a3a-bec3-caf99c434222-c000.snappy.parquet\n",
      "-rw-r--r--   1 saxsa supergroup        623 2019-08-05 23:37 /consulta_parquet/part-00119-fc69a552-8608-4a3a-bec3-caf99c434222-c000.snappy.parquet\n",
      "-rw-r--r--   1 saxsa supergroup        623 2019-08-05 23:37 /consulta_parquet/part-00120-fc69a552-8608-4a3a-bec3-caf99c434222-c000.snappy.parquet\n",
      "-rw-r--r--   1 saxsa supergroup        633 2019-08-05 23:37 /consulta_parquet/part-00121-fc69a552-8608-4a3a-bec3-caf99c434222-c000.snappy.parquet\n",
      "-rw-r--r--   1 saxsa supergroup        646 2019-08-05 23:37 /consulta_parquet/part-00122-fc69a552-8608-4a3a-bec3-caf99c434222-c000.snappy.parquet\n",
      "-rw-r--r--   1 saxsa supergroup        641 2019-08-05 23:37 /consulta_parquet/part-00123-fc69a552-8608-4a3a-bec3-caf99c434222-c000.snappy.parquet\n",
      "-rw-r--r--   1 saxsa supergroup        623 2019-08-05 23:37 /consulta_parquet/part-00124-fc69a552-8608-4a3a-bec3-caf99c434222-c000.snappy.parquet\n",
      "-rw-r--r--   1 saxsa supergroup        628 2019-08-05 23:37 /consulta_parquet/part-00125-fc69a552-8608-4a3a-bec3-caf99c434222-c000.snappy.parquet\n",
      "-rw-r--r--   1 saxsa supergroup        663 2019-08-05 23:37 /consulta_parquet/part-00126-fc69a552-8608-4a3a-bec3-caf99c434222-c000.snappy.parquet\n",
      "-rw-r--r--   1 saxsa supergroup        617 2019-08-05 23:37 /consulta_parquet/part-00127-fc69a552-8608-4a3a-bec3-caf99c434222-c000.snappy.parquet\n",
      "-rw-r--r--   1 saxsa supergroup        633 2019-08-05 23:37 /consulta_parquet/part-00128-fc69a552-8608-4a3a-bec3-caf99c434222-c000.snappy.parquet\n",
      "-rw-r--r--   1 saxsa supergroup        641 2019-08-05 23:37 /consulta_parquet/part-00129-fc69a552-8608-4a3a-bec3-caf99c434222-c000.snappy.parquet\n",
      "-rw-r--r--   1 saxsa supergroup        668 2019-08-05 23:37 /consulta_parquet/part-00130-fc69a552-8608-4a3a-bec3-caf99c434222-c000.snappy.parquet\n",
      "-rw-r--r--   1 saxsa supergroup        645 2019-08-05 23:37 /consulta_parquet/part-00131-fc69a552-8608-4a3a-bec3-caf99c434222-c000.snappy.parquet\n",
      "-rw-r--r--   1 saxsa supergroup        641 2019-08-05 23:37 /consulta_parquet/part-00132-fc69a552-8608-4a3a-bec3-caf99c434222-c000.snappy.parquet\n",
      "-rw-r--r--   1 saxsa supergroup        641 2019-08-05 23:37 /consulta_parquet/part-00133-fc69a552-8608-4a3a-bec3-caf99c434222-c000.snappy.parquet\n",
      "-rw-r--r--   1 saxsa supergroup        645 2019-08-05 23:37 /consulta_parquet/part-00134-fc69a552-8608-4a3a-bec3-caf99c434222-c000.snappy.parquet\n",
      "-rw-r--r--   1 saxsa supergroup        657 2019-08-05 23:38 /consulta_parquet/part-00135-fc69a552-8608-4a3a-bec3-caf99c434222-c000.snappy.parquet\n",
      "-rw-r--r--   1 saxsa supergroup        649 2019-08-05 23:38 /consulta_parquet/part-00136-fc69a552-8608-4a3a-bec3-caf99c434222-c000.snappy.parquet\n",
      "-rw-r--r--   1 saxsa supergroup        645 2019-08-05 23:38 /consulta_parquet/part-00137-fc69a552-8608-4a3a-bec3-caf99c434222-c000.snappy.parquet\n",
      "-rw-r--r--   1 saxsa supergroup        680 2019-08-05 23:38 /consulta_parquet/part-00138-fc69a552-8608-4a3a-bec3-caf99c434222-c000.snappy.parquet\n",
      "-rw-r--r--   1 saxsa supergroup        680 2019-08-05 23:38 /consulta_parquet/part-00139-fc69a552-8608-4a3a-bec3-caf99c434222-c000.snappy.parquet\n",
      "-rw-r--r--   1 saxsa supergroup        657 2019-08-05 23:38 /consulta_parquet/part-00140-fc69a552-8608-4a3a-bec3-caf99c434222-c000.snappy.parquet\n",
      "-rw-r--r--   1 saxsa supergroup        680 2019-08-05 23:38 /consulta_parquet/part-00141-fc69a552-8608-4a3a-bec3-caf99c434222-c000.snappy.parquet\n",
      "-rw-r--r--   1 saxsa supergroup        688 2019-08-05 23:38 /consulta_parquet/part-00142-fc69a552-8608-4a3a-bec3-caf99c434222-c000.snappy.parquet\n",
      "-rw-r--r--   1 saxsa supergroup        684 2019-08-05 23:38 /consulta_parquet/part-00143-fc69a552-8608-4a3a-bec3-caf99c434222-c000.snappy.parquet\n",
      "-rw-r--r--   1 saxsa supergroup        708 2019-08-05 23:38 /consulta_parquet/part-00144-fc69a552-8608-4a3a-bec3-caf99c434222-c000.snappy.parquet\n",
      "-rw-r--r--   1 saxsa supergroup        773 2019-08-05 23:38 /consulta_parquet/part-00145-fc69a552-8608-4a3a-bec3-caf99c434222-c000.snappy.parquet\n",
      "-rw-r--r--   1 saxsa supergroup        781 2019-08-05 23:38 /consulta_parquet/part-00146-fc69a552-8608-4a3a-bec3-caf99c434222-c000.snappy.parquet\n",
      "-rw-r--r--   1 saxsa supergroup        878 2019-08-05 23:38 /consulta_parquet/part-00147-fc69a552-8608-4a3a-bec3-caf99c434222-c000.snappy.parquet\n",
      "-rw-r--r--   1 saxsa supergroup       1122 2019-08-05 23:38 /consulta_parquet/part-00148-fc69a552-8608-4a3a-bec3-caf99c434222-c000.snappy.parquet\n"
     ]
    }
   ],
   "source": [
    "%%bash\n",
    "\n",
    "hdfs dfs -ls /consulta_parquet"
   ]
  },
  {
   "cell_type": "code",
   "execution_count": 18,
   "metadata": {},
   "outputs": [],
   "source": [
    "df_t.createOrReplaceTempView('test')"
   ]
  },
  {
   "cell_type": "code",
   "execution_count": 19,
   "metadata": {},
   "outputs": [
    {
     "data": {
      "application/vnd.jupyter.widget-view+json": {
       "model_id": "dd56c189804448dc831978a53e992394",
       "version_major": 2,
       "version_minor": 0
      },
      "text/plain": [
       "VBox(children=(HBox(children=(HTML(value='Type:'), Button(description='Table', layout=Layout(width='70px'), st…"
      ]
     },
     "metadata": {},
     "output_type": "display_data"
    },
    {
     "data": {
      "application/vnd.jupyter.widget-view+json": {
       "model_id": "48ab82a14fac439eb6ac89968f4dc203",
       "version_major": 2,
       "version_minor": 0
      },
      "text/plain": [
       "Output()"
      ]
     },
     "metadata": {},
     "output_type": "display_data"
    }
   ],
   "source": [
    "%%sql\n",
    "SELECT Cliente_ID, COUNT(CLiente_ID) AS Apariciones FROM test GROUP BY Cliente_ID ORDER BY Apariciones DESC LIMIT 60"
   ]
  },
  {
   "cell_type": "code",
   "execution_count": null,
   "metadata": {},
   "outputs": [],
   "source": []
  }
 ],
 "metadata": {
  "kernelspec": {
   "display_name": "PySpark3",
   "language": "",
   "name": "pyspark3kernel"
  },
  "language_info": {
   "codemirror_mode": {
    "name": "python",
    "version": 3
   },
   "mimetype": "text/x-python",
   "name": "pyspark3",
   "pygments_lexer": "python3"
  }
 },
 "nbformat": 4,
 "nbformat_minor": 2
}
