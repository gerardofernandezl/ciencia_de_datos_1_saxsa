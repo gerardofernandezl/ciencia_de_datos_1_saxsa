{
 "cells": [
  {
   "cell_type": "markdown",
   "metadata": {},
   "source": [
    "##### Título: Conexion Spark con MongoDB\n",
    "##### Autor: Dr. Gabriel Guerrero, saxsa2000@gmail.com\n",
    "##### Fecha: 20190702\n",
    "\n"
   ]
  },
  {
   "cell_type": "markdown",
   "metadata": {},
   "source": [
    "### Spark conexión con MongoDB\n",
    "\n",
    "El siguinete cuaderno muestra como leer una colección de mongodb con spark.\n",
    "\n",
    "El mecanismo es leer una colección de mongoDB y convertirla  a un dataframe de spark.\n",
    "\n",
    "En el dataframe de Spark se ejecutan metódos en el dataframe y finalmente se guarda el resultado en un nuevo dataframe de spark que se almacena  en una coleccion mongodb.\n",
    "\n",
    "![mongo_spark](spark_mongo.jpg)"
   ]
  },
  {
   "cell_type": "markdown",
   "metadata": {},
   "source": [
    "## Las fuentes de información son datos de BIMBO surgidos de un concurso de kaggle "
   ]
  },
  {
   "cell_type": "code",
   "execution_count": 1,
   "metadata": {},
   "outputs": [
    {
     "name": "stdout",
     "output_type": "stream",
     "text": [
      "24928 SecondaryNameNode\n",
      "24737 DataNode\n",
      "25300 LivyServer\n",
      "27513 Jps\n",
      "24572 NameNode\n"
     ]
    }
   ],
   "source": [
    "%%bash\n",
    "\n",
    "jps"
   ]
  },
  {
   "cell_type": "code",
   "execution_count": 2,
   "metadata": {},
   "outputs": [
    {
     "name": "stdout",
     "output_type": "stream",
     "text": [
      "● mongod.service - High-performance, schema-free document-oriented database\n",
      "   Loaded: loaded (/usr/lib/systemd/system/mongod.service; enabled; vendor preset: disabled)\n",
      "   Active: active (running) since mar 2019-07-02 16:25:33 CDT; 6h ago\n",
      "     Docs: https://docs.mongodb.org/manual\n",
      "  Process: 1158 ExecStart=/usr/bin/mongod $OPTIONS (code=exited, status=0/SUCCESS)\n",
      "  Process: 1135 ExecStartPre=/usr/bin/chmod 0755 /var/run/mongodb (code=exited, status=0/SUCCESS)\n",
      "  Process: 1119 ExecStartPre=/usr/bin/chown mongod:mongod /var/run/mongodb (code=exited, status=0/SUCCESS)\n",
      "  Process: 1114 ExecStartPre=/usr/bin/mkdir -p /var/run/mongodb (code=exited, status=0/SUCCESS)\n",
      " Main PID: 1529 (mongod)\n",
      "    Tasks: 23\n",
      "   CGroup: /system.slice/mongod.service\n",
      "           └─1529 /usr/bin/mongod -f /etc/mongod.conf\n"
     ]
    }
   ],
   "source": [
    "%%bash\n",
    "\n",
    "systemctl status mongod\n"
   ]
  },
  {
   "cell_type": "markdown",
   "metadata": {},
   "source": [
    "=== Ejecutar mongodb en una terminal Linux ===\n",
    "\n",
    "mongo\n",
    "\n",
    "=== Una vez iniciado el cliente MongoDB, mostrar bases en mongodb ===\n",
    "\n",
    "show dbs\n",
    "\n",
    "=== Usar la base de datos llamada bimbodb ===\n",
    "\n",
    "use bimbodb\n",
    "\n",
    "=== Mostrar colecciones de la base de datos ===\n",
    "\n",
    "show collections\n",
    "\n",
    "=== Mostrar el contenido de las colecciones ===\n",
    "\n",
    "db.cliente.find()\n",
    "db.producto.find()\n",
    "db.town_state.find().pretty()\n",
    "db.train.find().pretty()\n",
    "\n",
    "=== Salir de mongodb ===\n",
    "\n",
    "exit"
   ]
  },
  {
   "cell_type": "code",
   "execution_count": 3,
   "metadata": {},
   "outputs": [
    {
     "name": "stdout",
     "output_type": "stream",
     "text": [
      "Starting namenodes on [hostsaxsa]\n",
      "hostsaxsa: namenode running as process 24572. Stop it first.\n",
      "hostsaxsa: datanode running as process 24737. Stop it first.\n",
      "Starting secondary namenodes [0.0.0.0]\n",
      "0.0.0.0: secondarynamenode running as process 24928. Stop it first.\n"
     ]
    }
   ],
   "source": [
    "%%bash\n",
    "\n",
    "start-dfs.sh"
   ]
  },
  {
   "cell_type": "code",
   "execution_count": 4,
   "metadata": {},
   "outputs": [
    {
     "name": "stdout",
     "output_type": "stream",
     "text": [
      "starting org.apache.spark.deploy.master.Master, logging to /usr/local/spark/logs/spark-saxsa-org.apache.spark.deploy.master.Master-1-hostsaxsa.out\n",
      "hostsaxsa: starting org.apache.spark.deploy.worker.Worker, logging to /usr/local/spark/logs/spark-saxsa-org.apache.spark.deploy.worker.Worker-1-hostsaxsa.out\n"
     ]
    }
   ],
   "source": [
    "%%bash \n",
    "\n",
    "start-spark.sh"
   ]
  },
  {
   "cell_type": "code",
   "execution_count": 5,
   "metadata": {},
   "outputs": [
    {
     "name": "stdout",
     "output_type": "stream",
     "text": [
      "24928 SecondaryNameNode\n",
      "24737 DataNode\n",
      "27938 Master\n",
      "25300 LivyServer\n",
      "28037 Worker\n",
      "24572 NameNode\n",
      "28092 Jps\n"
     ]
    }
   ],
   "source": [
    "%%bash \n",
    "\n",
    "jps\n"
   ]
  },
  {
   "cell_type": "code",
   "execution_count": 6,
   "metadata": {},
   "outputs": [
    {
     "name": "stdout",
     "output_type": "stream",
     "text": [
      "Starting Spark application\n"
     ]
    },
    {
     "data": {
      "text/html": [
       "<table>\n",
       "<tr><th>ID</th><th>YARN Application ID</th><th>Kind</th><th>State</th><th>Spark UI</th><th>Driver log</th><th>Current session?</th></tr><tr><td>3</td><td>None</td><td>pyspark3</td><td>idle</td><td></td><td></td><td>✔</td></tr></table>"
      ],
      "text/plain": [
       "<IPython.core.display.HTML object>"
      ]
     },
     "metadata": {},
     "output_type": "display_data"
    },
    {
     "name": "stdout",
     "output_type": "stream",
     "text": [
      "SparkSession available as 'spark'.\n"
     ]
    }
   ],
   "source": [
    "from pyspark.sql.functions import count"
   ]
  },
  {
   "cell_type": "markdown",
   "metadata": {},
   "source": [
    "### Lectura de la base bimbodb y la coleccion cliente"
   ]
  },
  {
   "cell_type": "code",
   "execution_count": 7,
   "metadata": {},
   "outputs": [],
   "source": [
    "df_c = spark.read.format(\"com.mongodb.spark.sql.DefaultSource\")\\\n",
    "    .option(\"spark.mongodb.input.uri\", \"mongodb://127.0.0.1/bimbodb.cliente?readPreference=primaryPreferred\")\\\n",
    "    .option(\"spark.mongodb.output.uri\", \"mongodb://127.0.0.1/bimbodb.cliente\").load()"
   ]
  },
  {
   "cell_type": "code",
   "execution_count": 8,
   "metadata": {},
   "outputs": [
    {
     "name": "stdout",
     "output_type": "stream",
     "text": [
      "DataFrame[Cliente_ID: int, NombreCliente: string, _id: struct<oid:string>]"
     ]
    }
   ],
   "source": [
    "df_c"
   ]
  },
  {
   "cell_type": "code",
   "execution_count": 9,
   "metadata": {},
   "outputs": [
    {
     "name": "stdout",
     "output_type": "stream",
     "text": [
      "+-------+------------------+--------------------+\n",
      "|summary|        Cliente_ID|       NombreCliente|\n",
      "+-------+------------------+--------------------+\n",
      "|  count|            450000|              450000|\n",
      "|   mean|2349831.5673133335|   4103.354430379747|\n",
      "| stddev| 1915668.265326387|  22887.275797071834|\n",
      "|    min|                 2|056 THE AIRPORT M...|\n",
      "|    max|          19988629|                ÑEKA|\n",
      "+-------+------------------+--------------------+"
     ]
    }
   ],
   "source": [
    "df_c = df_c.drop('_id')\n",
    "df_c.describe().show()"
   ]
  },
  {
   "cell_type": "code",
   "execution_count": 10,
   "metadata": {},
   "outputs": [
    {
     "name": "stdout",
     "output_type": "stream",
     "text": [
      "448852"
     ]
    }
   ],
   "source": [
    "df_c.select('Cliente_ID').distinct().count()"
   ]
  },
  {
   "cell_type": "code",
   "execution_count": 11,
   "metadata": {},
   "outputs": [
    {
     "name": "stdout",
     "output_type": "stream",
     "text": [
      "+----------+-----------+\n",
      "|Cliente_ID|Apariciones|\n",
      "+----------+-----------+\n",
      "|   6137009|          2|\n",
      "|    525200|          2|\n",
      "|    149688|          2|\n",
      "|    406654|          2|\n",
      "|    370466|          2|\n",
      "|    101541|          2|\n",
      "|    164940|          2|\n",
      "|    103066|          2|\n",
      "|    496802|          2|\n",
      "|   1453247|          2|\n",
      "|    373944|          2|\n",
      "|     19758|          2|\n",
      "|    996554|          2|\n",
      "|   1190343|          2|\n",
      "|   2403824|          2|\n",
      "|    390498|          2|\n",
      "|     21633|          2|\n",
      "|    523171|          2|\n",
      "|    321977|          2|\n",
      "|     69340|          2|\n",
      "+----------+-----------+\n",
      "only showing top 20 rows"
     ]
    }
   ],
   "source": [
    "df_cli = df_c.select('Cliente_ID').groupby('Cliente_ID')\\\n",
    "            .agg(count('Cliente_ID').alias('Apariciones'))\\\n",
    "            .sort('Apariciones', ascending=False)\\\n",
    "            .where(\"Apariciones != 1\")\n",
    "\n",
    "df_cli.show()"
   ]
  },
  {
   "cell_type": "code",
   "execution_count": 12,
   "metadata": {},
   "outputs": [
    {
     "name": "stdout",
     "output_type": "stream",
     "text": [
      "1148"
     ]
    }
   ],
   "source": [
    "df_cli.count()"
   ]
  },
  {
   "cell_type": "code",
   "execution_count": 13,
   "metadata": {},
   "outputs": [
    {
     "name": "stdout",
     "output_type": "stream",
     "text": [
      "+----------+------------------------+\n",
      "|Cliente_ID|NombreCliente           |\n",
      "+----------+------------------------+\n",
      "|1453247   |NOVEDADES Y V  J  INGRID|\n",
      "|1453247   |NOVEDADES Y V J INGRID  |\n",
      "+----------+------------------------+"
     ]
    }
   ],
   "source": [
    "df_c.filter(\"Cliente_ID == 1453247\").show(2, False)"
   ]
  },
  {
   "cell_type": "code",
   "execution_count": 14,
   "metadata": {},
   "outputs": [],
   "source": [
    "df_p = spark.read.format(\"com.mongodb.spark.sql.DefaultSource\")\\\n",
    "    .option(\"spark.mongodb.input.uri\", \"mongodb://127.0.0.1/bimbodb.producto?readPreference=primaryPreferred\")\\\n",
    "    .option(\"spark.mongodb.output.uri\", \"mongodb://127.0.0.1/bimbodb.producto\").load()"
   ]
  },
  {
   "cell_type": "code",
   "execution_count": 15,
   "metadata": {},
   "outputs": [
    {
     "name": "stdout",
     "output_type": "stream",
     "text": [
      "DataFrame[NombreProducto: string, Producto_ID: int, _id: struct<oid:string>]"
     ]
    }
   ],
   "source": [
    "df_p"
   ]
  },
  {
   "cell_type": "code",
   "execution_count": 16,
   "metadata": {},
   "outputs": [
    {
     "name": "stdout",
     "output_type": "stream",
     "text": [
      "+-------+--------------------+------------------+\n",
      "|summary|      NombreProducto|       Producto_ID|\n",
      "+-------+--------------------+------------------+\n",
      "|  count|                2592|              2592|\n",
      "|   mean|                null|32591.095679012345|\n",
      "| stddev|                null|13004.091023722118|\n",
      "|    min|100pct Whole Whea...|                 0|\n",
      "|    max|Wonderbutter 680g...|             49997|\n",
      "+-------+--------------------+------------------+"
     ]
    }
   ],
   "source": [
    "df_p = df_p.drop('_id')\n",
    "df_p.describe().show()"
   ]
  },
  {
   "cell_type": "code",
   "execution_count": 17,
   "metadata": {},
   "outputs": [],
   "source": [
    "df_p.createOrReplaceTempView('producto')"
   ]
  },
  {
   "cell_type": "code",
   "execution_count": 18,
   "metadata": {
    "scrolled": false
   },
   "outputs": [
    {
     "data": {
      "application/vnd.jupyter.widget-view+json": {
       "model_id": "852d01bf9b114dbc881978b1c56823f4",
       "version_major": 2,
       "version_minor": 0
      },
      "text/plain": [
       "VBox(children=(HBox(children=(HTML(value='Type:'), Button(description='Table', layout=Layout(width='70px'), st…"
      ]
     },
     "metadata": {},
     "output_type": "display_data"
    },
    {
     "data": {
      "application/vnd.jupyter.widget-view+json": {
       "model_id": "d03d6ac552144f74aa7f268c0aa19581",
       "version_major": 2,
       "version_minor": 0
      },
      "text/plain": [
       "Output()"
      ]
     },
     "metadata": {},
     "output_type": "display_data"
    }
   ],
   "source": [
    "%%sql\n",
    "SELECT * FROM producto WHERE NombreProducto LIKE '%Pan%' limit 100"
   ]
  },
  {
   "cell_type": "code",
   "execution_count": 19,
   "metadata": {},
   "outputs": [],
   "source": [
    "df_cons = spark.sql(\"SELECT * FROM producto WHERE NombreProducto LIKE '%Pan%'\")"
   ]
  },
  {
   "cell_type": "code",
   "execution_count": 20,
   "metadata": {},
   "outputs": [
    {
     "name": "stdout",
     "output_type": "stream",
     "text": [
      "+--------------------+-----------+\n",
      "|      NombreProducto|Producto_ID|\n",
      "+--------------------+-----------+\n",
      "|Pan Multigrano Li...|         73|\n",
      "|Pan Blanco 567g W...|         99|\n",
      "|Super Pan Bco Ajo...|        100|\n",
      "|Pan Multicereal 4...|        109|\n",
      "|Pan Multigrano 68...|        713|\n",
      "|Pan 100pct Integr...|        715|\n",
      "|Pan Blanco Siluet...|        779|\n",
      "|Panitos Chocolate...|        357|\n",
      "|Pan Bolsa 2a 500g...|       1031|\n",
      "|Pan 12 Granos 680...|       1039|\n",
      "|Panque Marmol 255...|       1064|\n",
      "|Pan Blanco Chico ...|       1109|\n",
      "|Pan Blanco 2Pq 13...|       1111|\n",
      "|Super Pan Blanco ...|       1112|\n",
      "|Pan Blanco 680g B...|       1120|\n",
      "|Pan Integral Gde ...|       1143|\n",
      "|Pan Integral 480g...|       1144|\n",
      "|Pan Integral 680g...|       1145|\n",
      "|Pan Integral 675g...|       1146|\n",
      "|Panque Pasas 255g...|       1230|\n",
      "+--------------------+-----------+\n",
      "only showing top 20 rows"
     ]
    }
   ],
   "source": [
    "df_cons.show()"
   ]
  },
  {
   "cell_type": "code",
   "execution_count": 21,
   "metadata": {},
   "outputs": [],
   "source": [
    "df_cons.write.format(\"com.mongodb.spark.sql.DefaultSource\")\\\n",
    ".mode(\"append\")\\\n",
    ".option(\"spark.mongodb.input.uri\", \"mongodb://127.0.0.1/bimbodb.coleccion_nueva?readPreference=primaryPreferred\")\\\n",
    ".option(\"spark.mongodb.output.uri\", \"mongodb://127.0.0.1/bimbodb.coleccion_nueva\").save()"
   ]
  },
  {
   "cell_type": "code",
   "execution_count": null,
   "metadata": {},
   "outputs": [],
   "source": []
  }
 ],
 "metadata": {
  "kernelspec": {
   "display_name": "PySpark3",
   "language": "",
   "name": "pyspark3kernel"
  },
  "language_info": {
   "codemirror_mode": {
    "name": "python",
    "version": 3
   },
   "mimetype": "text/x-python",
   "name": "pyspark3",
   "pygments_lexer": "python3"
  }
 },
 "nbformat": 4,
 "nbformat_minor": 2
}
