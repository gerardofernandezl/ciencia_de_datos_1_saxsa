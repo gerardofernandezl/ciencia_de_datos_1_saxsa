{
 "cells": [
  {
   "cell_type": "code",
   "execution_count": 1,
   "metadata": {},
   "outputs": [
    {
     "name": "stdout",
     "output_type": "stream",
     "text": [
      "11363 SecondaryNameNode\n",
      "11539 Master\n",
      "11044 NameNode\n",
      "22586 Jps\n",
      "11612 Worker\n",
      "11725 LivyServer\n",
      "11167 DataNode\n"
     ]
    }
   ],
   "source": [
    "%%bash\n",
    "\n",
    "jps"
   ]
  },
  {
   "cell_type": "code",
   "execution_count": 2,
   "metadata": {},
   "outputs": [
    {
     "name": "stdout",
     "output_type": "stream",
     "text": [
      "Found 150 items\n",
      "-rw-r--r--   1 saxsa supergroup          0 2019-08-05 23:38 /consulta_parquet/_SUCCESS\n",
      "-rw-r--r--   1 saxsa supergroup        654 2019-08-05 23:37 /consulta_parquet/part-00000-fc69a552-8608-4a3a-bec3-caf99c434222-c000.snappy.parquet\n",
      "-rw-r--r--   1 saxsa supergroup        645 2019-08-05 23:37 /consulta_parquet/part-00001-fc69a552-8608-4a3a-bec3-caf99c434222-c000.snappy.parquet\n",
      "-rw-r--r--   1 saxsa supergroup        644 2019-08-05 23:37 /consulta_parquet/part-00002-fc69a552-8608-4a3a-bec3-caf99c434222-c000.snappy.parquet\n",
      "-rw-r--r--   1 saxsa supergroup        644 2019-08-05 23:37 /consulta_parquet/part-00003-fc69a552-8608-4a3a-bec3-caf99c434222-c000.snappy.parquet\n",
      "-rw-r--r--   1 saxsa supergroup        643 2019-08-05 23:37 /consulta_parquet/part-00004-fc69a552-8608-4a3a-bec3-caf99c434222-c000.snappy.parquet\n",
      "-rw-r--r--   1 saxsa supergroup        643 2019-08-05 23:37 /consulta_parquet/part-00005-fc69a552-8608-4a3a-bec3-caf99c434222-c000.snappy.parquet\n",
      "-rw-r--r--   1 saxsa supergroup        644 2019-08-05 23:37 /consulta_parquet/part-00006-fc69a552-8608-4a3a-bec3-caf99c434222-c000.snappy.parquet\n",
      "-rw-r--r--   1 saxsa supergroup        653 2019-08-05 23:37 /consulta_parquet/part-00007-fc69a552-8608-4a3a-bec3-caf99c434222-c000.snappy.parquet\n",
      "-rw-r--r--   1 saxsa supergroup        643 2019-08-05 23:37 /consulta_parquet/part-00008-fc69a552-8608-4a3a-bec3-caf99c434222-c000.snappy.parquet\n",
      "-rw-r--r--   1 saxsa supergroup        642 2019-08-05 23:37 /consulta_parquet/part-00009-fc69a552-8608-4a3a-bec3-caf99c434222-c000.snappy.parquet\n",
      "-rw-r--r--   1 saxsa supergroup        642 2019-08-05 23:37 /consulta_parquet/part-00010-fc69a552-8608-4a3a-bec3-caf99c434222-c000.snappy.parquet\n",
      "-rw-r--r--   1 saxsa supergroup        641 2019-08-05 23:37 /consulta_parquet/part-00011-fc69a552-8608-4a3a-bec3-caf99c434222-c000.snappy.parquet\n",
      "-rw-r--r--   1 saxsa supergroup        673 2019-08-05 23:37 /consulta_parquet/part-00012-fc69a552-8608-4a3a-bec3-caf99c434222-c000.snappy.parquet\n",
      "-rw-r--r--   1 saxsa supergroup        632 2019-08-05 23:37 /consulta_parquet/part-00013-fc69a552-8608-4a3a-bec3-caf99c434222-c000.snappy.parquet\n",
      "-rw-r--r--   1 saxsa supergroup        641 2019-08-05 23:37 /consulta_parquet/part-00014-fc69a552-8608-4a3a-bec3-caf99c434222-c000.snappy.parquet\n",
      "-rw-r--r--   1 saxsa supergroup        652 2019-08-05 23:37 /consulta_parquet/part-00015-fc69a552-8608-4a3a-bec3-caf99c434222-c000.snappy.parquet\n",
      "-rw-r--r--   1 saxsa supergroup        662 2019-08-05 23:37 /consulta_parquet/part-00016-fc69a552-8608-4a3a-bec3-caf99c434222-c000.snappy.parquet\n",
      "-rw-r--r--   1 saxsa supergroup        641 2019-08-05 23:37 /consulta_parquet/part-00017-fc69a552-8608-4a3a-bec3-caf99c434222-c000.snappy.parquet\n",
      "-rw-r--r--   1 saxsa supergroup        642 2019-08-05 23:37 /consulta_parquet/part-00018-fc69a552-8608-4a3a-bec3-caf99c434222-c000.snappy.parquet\n",
      "-rw-r--r--   1 saxsa supergroup        641 2019-08-05 23:37 /consulta_parquet/part-00019-fc69a552-8608-4a3a-bec3-caf99c434222-c000.snappy.parquet\n",
      "-rw-r--r--   1 saxsa supergroup        641 2019-08-05 23:37 /consulta_parquet/part-00020-fc69a552-8608-4a3a-bec3-caf99c434222-c000.snappy.parquet\n",
      "-rw-r--r--   1 saxsa supergroup        639 2019-08-05 23:37 /consulta_parquet/part-00021-fc69a552-8608-4a3a-bec3-caf99c434222-c000.snappy.parquet\n",
      "-rw-r--r--   1 saxsa supergroup        641 2019-08-05 23:37 /consulta_parquet/part-00022-fc69a552-8608-4a3a-bec3-caf99c434222-c000.snappy.parquet\n",
      "-rw-r--r--   1 saxsa supergroup        651 2019-08-05 23:37 /consulta_parquet/part-00023-fc69a552-8608-4a3a-bec3-caf99c434222-c000.snappy.parquet\n",
      "-rw-r--r--   1 saxsa supergroup        664 2019-08-05 23:37 /consulta_parquet/part-00024-fc69a552-8608-4a3a-bec3-caf99c434222-c000.snappy.parquet\n",
      "-rw-r--r--   1 saxsa supergroup        639 2019-08-05 23:37 /consulta_parquet/part-00025-fc69a552-8608-4a3a-bec3-caf99c434222-c000.snappy.parquet\n",
      "-rw-r--r--   1 saxsa supergroup        641 2019-08-05 23:37 /consulta_parquet/part-00026-fc69a552-8608-4a3a-bec3-caf99c434222-c000.snappy.parquet\n",
      "-rw-r--r--   1 saxsa supergroup        641 2019-08-05 23:37 /consulta_parquet/part-00027-fc69a552-8608-4a3a-bec3-caf99c434222-c000.snappy.parquet\n",
      "-rw-r--r--   1 saxsa supergroup        639 2019-08-05 23:37 /consulta_parquet/part-00028-fc69a552-8608-4a3a-bec3-caf99c434222-c000.snappy.parquet\n",
      "-rw-r--r--   1 saxsa supergroup        639 2019-08-05 23:37 /consulta_parquet/part-00029-fc69a552-8608-4a3a-bec3-caf99c434222-c000.snappy.parquet\n",
      "-rw-r--r--   1 saxsa supergroup        648 2019-08-05 23:37 /consulta_parquet/part-00030-fc69a552-8608-4a3a-bec3-caf99c434222-c000.snappy.parquet\n",
      "-rw-r--r--   1 saxsa supergroup        641 2019-08-05 23:37 /consulta_parquet/part-00031-fc69a552-8608-4a3a-bec3-caf99c434222-c000.snappy.parquet\n",
      "-rw-r--r--   1 saxsa supergroup        670 2019-08-05 23:37 /consulta_parquet/part-00032-fc69a552-8608-4a3a-bec3-caf99c434222-c000.snappy.parquet\n",
      "-rw-r--r--   1 saxsa supergroup        630 2019-08-05 23:37 /consulta_parquet/part-00033-fc69a552-8608-4a3a-bec3-caf99c434222-c000.snappy.parquet\n",
      "-rw-r--r--   1 saxsa supergroup        639 2019-08-05 23:37 /consulta_parquet/part-00034-fc69a552-8608-4a3a-bec3-caf99c434222-c000.snappy.parquet\n",
      "-rw-r--r--   1 saxsa supergroup        641 2019-08-05 23:37 /consulta_parquet/part-00035-fc69a552-8608-4a3a-bec3-caf99c434222-c000.snappy.parquet\n",
      "-rw-r--r--   1 saxsa supergroup        639 2019-08-05 23:37 /consulta_parquet/part-00036-fc69a552-8608-4a3a-bec3-caf99c434222-c000.snappy.parquet\n",
      "-rw-r--r--   1 saxsa supergroup        670 2019-08-05 23:37 /consulta_parquet/part-00037-fc69a552-8608-4a3a-bec3-caf99c434222-c000.snappy.parquet\n",
      "-rw-r--r--   1 saxsa supergroup        639 2019-08-05 23:37 /consulta_parquet/part-00038-fc69a552-8608-4a3a-bec3-caf99c434222-c000.snappy.parquet\n",
      "-rw-r--r--   1 saxsa supergroup        639 2019-08-05 23:37 /consulta_parquet/part-00039-fc69a552-8608-4a3a-bec3-caf99c434222-c000.snappy.parquet\n",
      "-rw-r--r--   1 saxsa supergroup        639 2019-08-05 23:37 /consulta_parquet/part-00040-fc69a552-8608-4a3a-bec3-caf99c434222-c000.snappy.parquet\n",
      "-rw-r--r--   1 saxsa supergroup        662 2019-08-05 23:37 /consulta_parquet/part-00041-fc69a552-8608-4a3a-bec3-caf99c434222-c000.snappy.parquet\n",
      "-rw-r--r--   1 saxsa supergroup        630 2019-08-05 23:37 /consulta_parquet/part-00042-fc69a552-8608-4a3a-bec3-caf99c434222-c000.snappy.parquet\n",
      "-rw-r--r--   1 saxsa supergroup        639 2019-08-05 23:37 /consulta_parquet/part-00043-fc69a552-8608-4a3a-bec3-caf99c434222-c000.snappy.parquet\n",
      "-rw-r--r--   1 saxsa supergroup        641 2019-08-05 23:37 /consulta_parquet/part-00044-fc69a552-8608-4a3a-bec3-caf99c434222-c000.snappy.parquet\n",
      "-rw-r--r--   1 saxsa supergroup        662 2019-08-05 23:37 /consulta_parquet/part-00045-fc69a552-8608-4a3a-bec3-caf99c434222-c000.snappy.parquet\n",
      "-rw-r--r--   1 saxsa supergroup        648 2019-08-05 23:37 /consulta_parquet/part-00046-fc69a552-8608-4a3a-bec3-caf99c434222-c000.snappy.parquet\n",
      "-rw-r--r--   1 saxsa supergroup        662 2019-08-05 23:37 /consulta_parquet/part-00047-fc69a552-8608-4a3a-bec3-caf99c434222-c000.snappy.parquet\n",
      "-rw-r--r--   1 saxsa supergroup        662 2019-08-05 23:37 /consulta_parquet/part-00048-fc69a552-8608-4a3a-bec3-caf99c434222-c000.snappy.parquet\n",
      "-rw-r--r--   1 saxsa supergroup        639 2019-08-05 23:37 /consulta_parquet/part-00049-fc69a552-8608-4a3a-bec3-caf99c434222-c000.snappy.parquet\n",
      "-rw-r--r--   1 saxsa supergroup        662 2019-08-05 23:37 /consulta_parquet/part-00050-fc69a552-8608-4a3a-bec3-caf99c434222-c000.snappy.parquet\n",
      "-rw-r--r--   1 saxsa supergroup        641 2019-08-05 23:37 /consulta_parquet/part-00051-fc69a552-8608-4a3a-bec3-caf99c434222-c000.snappy.parquet\n",
      "-rw-r--r--   1 saxsa supergroup        662 2019-08-05 23:37 /consulta_parquet/part-00052-fc69a552-8608-4a3a-bec3-caf99c434222-c000.snappy.parquet\n",
      "-rw-r--r--   1 saxsa supergroup        648 2019-08-05 23:37 /consulta_parquet/part-00053-fc69a552-8608-4a3a-bec3-caf99c434222-c000.snappy.parquet\n",
      "-rw-r--r--   1 saxsa supergroup        639 2019-08-05 23:37 /consulta_parquet/part-00054-fc69a552-8608-4a3a-bec3-caf99c434222-c000.snappy.parquet\n",
      "-rw-r--r--   1 saxsa supergroup        662 2019-08-05 23:37 /consulta_parquet/part-00055-fc69a552-8608-4a3a-bec3-caf99c434222-c000.snappy.parquet\n",
      "-rw-r--r--   1 saxsa supergroup        639 2019-08-05 23:37 /consulta_parquet/part-00056-fc69a552-8608-4a3a-bec3-caf99c434222-c000.snappy.parquet\n",
      "-rw-r--r--   1 saxsa supergroup        639 2019-08-05 23:37 /consulta_parquet/part-00057-fc69a552-8608-4a3a-bec3-caf99c434222-c000.snappy.parquet\n",
      "-rw-r--r--   1 saxsa supergroup        658 2019-08-05 23:37 /consulta_parquet/part-00058-fc69a552-8608-4a3a-bec3-caf99c434222-c000.snappy.parquet\n",
      "-rw-r--r--   1 saxsa supergroup        658 2019-08-05 23:37 /consulta_parquet/part-00059-fc69a552-8608-4a3a-bec3-caf99c434222-c000.snappy.parquet\n",
      "-rw-r--r--   1 saxsa supergroup        658 2019-08-05 23:37 /consulta_parquet/part-00060-fc69a552-8608-4a3a-bec3-caf99c434222-c000.snappy.parquet\n",
      "-rw-r--r--   1 saxsa supergroup        670 2019-08-05 23:37 /consulta_parquet/part-00061-fc69a552-8608-4a3a-bec3-caf99c434222-c000.snappy.parquet\n",
      "-rw-r--r--   1 saxsa supergroup        658 2019-08-05 23:37 /consulta_parquet/part-00062-fc69a552-8608-4a3a-bec3-caf99c434222-c000.snappy.parquet\n",
      "-rw-r--r--   1 saxsa supergroup        662 2019-08-05 23:37 /consulta_parquet/part-00063-fc69a552-8608-4a3a-bec3-caf99c434222-c000.snappy.parquet\n",
      "-rw-r--r--   1 saxsa supergroup        662 2019-08-05 23:37 /consulta_parquet/part-00064-fc69a552-8608-4a3a-bec3-caf99c434222-c000.snappy.parquet\n",
      "-rw-r--r--   1 saxsa supergroup        653 2019-08-05 23:37 /consulta_parquet/part-00065-fc69a552-8608-4a3a-bec3-caf99c434222-c000.snappy.parquet\n",
      "-rw-r--r--   1 saxsa supergroup        653 2019-08-05 23:37 /consulta_parquet/part-00066-fc69a552-8608-4a3a-bec3-caf99c434222-c000.snappy.parquet\n",
      "-rw-r--r--   1 saxsa supergroup        672 2019-08-05 23:37 /consulta_parquet/part-00067-fc69a552-8608-4a3a-bec3-caf99c434222-c000.snappy.parquet\n",
      "-rw-r--r--   1 saxsa supergroup        662 2019-08-05 23:37 /consulta_parquet/part-00068-fc69a552-8608-4a3a-bec3-caf99c434222-c000.snappy.parquet\n",
      "-rw-r--r--   1 saxsa supergroup        639 2019-08-05 23:37 /consulta_parquet/part-00069-fc69a552-8608-4a3a-bec3-caf99c434222-c000.snappy.parquet\n",
      "-rw-r--r--   1 saxsa supergroup        653 2019-08-05 23:37 /consulta_parquet/part-00070-fc69a552-8608-4a3a-bec3-caf99c434222-c000.snappy.parquet\n",
      "-rw-r--r--   1 saxsa supergroup        653 2019-08-05 23:37 /consulta_parquet/part-00071-fc69a552-8608-4a3a-bec3-caf99c434222-c000.snappy.parquet\n",
      "-rw-r--r--   1 saxsa supergroup        658 2019-08-05 23:37 /consulta_parquet/part-00072-fc69a552-8608-4a3a-bec3-caf99c434222-c000.snappy.parquet\n",
      "-rw-r--r--   1 saxsa supergroup        662 2019-08-05 23:37 /consulta_parquet/part-00073-fc69a552-8608-4a3a-bec3-caf99c434222-c000.snappy.parquet\n",
      "-rw-r--r--   1 saxsa supergroup        657 2019-08-05 23:37 /consulta_parquet/part-00074-fc69a552-8608-4a3a-bec3-caf99c434222-c000.snappy.parquet\n",
      "-rw-r--r--   1 saxsa supergroup        653 2019-08-05 23:37 /consulta_parquet/part-00075-fc69a552-8608-4a3a-bec3-caf99c434222-c000.snappy.parquet\n",
      "-rw-r--r--   1 saxsa supergroup        669 2019-08-05 23:37 /consulta_parquet/part-00076-fc69a552-8608-4a3a-bec3-caf99c434222-c000.snappy.parquet\n",
      "-rw-r--r--   1 saxsa supergroup        658 2019-08-05 23:37 /consulta_parquet/part-00077-fc69a552-8608-4a3a-bec3-caf99c434222-c000.snappy.parquet\n",
      "-rw-r--r--   1 saxsa supergroup        648 2019-08-05 23:37 /consulta_parquet/part-00078-fc69a552-8608-4a3a-bec3-caf99c434222-c000.snappy.parquet\n",
      "-rw-r--r--   1 saxsa supergroup        662 2019-08-05 23:37 /consulta_parquet/part-00079-fc69a552-8608-4a3a-bec3-caf99c434222-c000.snappy.parquet\n",
      "-rw-r--r--   1 saxsa supergroup        648 2019-08-05 23:37 /consulta_parquet/part-00080-fc69a552-8608-4a3a-bec3-caf99c434222-c000.snappy.parquet\n",
      "-rw-r--r--   1 saxsa supergroup        673 2019-08-05 23:37 /consulta_parquet/part-00081-fc69a552-8608-4a3a-bec3-caf99c434222-c000.snappy.parquet\n",
      "-rw-r--r--   1 saxsa supergroup        626 2019-08-05 23:37 /consulta_parquet/part-00082-fc69a552-8608-4a3a-bec3-caf99c434222-c000.snappy.parquet\n",
      "-rw-r--r--   1 saxsa supergroup        658 2019-08-05 23:37 /consulta_parquet/part-00083-fc69a552-8608-4a3a-bec3-caf99c434222-c000.snappy.parquet\n",
      "-rw-r--r--   1 saxsa supergroup        666 2019-08-05 23:37 /consulta_parquet/part-00084-fc69a552-8608-4a3a-bec3-caf99c434222-c000.snappy.parquet\n",
      "-rw-r--r--   1 saxsa supergroup        642 2019-08-05 23:37 /consulta_parquet/part-00085-fc69a552-8608-4a3a-bec3-caf99c434222-c000.snappy.parquet\n",
      "-rw-r--r--   1 saxsa supergroup        609 2019-08-05 23:37 /consulta_parquet/part-00086-fc69a552-8608-4a3a-bec3-caf99c434222-c000.snappy.parquet\n",
      "-rw-r--r--   1 saxsa supergroup        648 2019-08-05 23:37 /consulta_parquet/part-00087-fc69a552-8608-4a3a-bec3-caf99c434222-c000.snappy.parquet\n",
      "-rw-r--r--   1 saxsa supergroup        658 2019-08-05 23:37 /consulta_parquet/part-00088-fc69a552-8608-4a3a-bec3-caf99c434222-c000.snappy.parquet\n",
      "-rw-r--r--   1 saxsa supergroup        643 2019-08-05 23:37 /consulta_parquet/part-00089-fc69a552-8608-4a3a-bec3-caf99c434222-c000.snappy.parquet\n",
      "-rw-r--r--   1 saxsa supergroup        648 2019-08-05 23:37 /consulta_parquet/part-00090-fc69a552-8608-4a3a-bec3-caf99c434222-c000.snappy.parquet\n",
      "-rw-r--r--   1 saxsa supergroup        653 2019-08-05 23:37 /consulta_parquet/part-00091-fc69a552-8608-4a3a-bec3-caf99c434222-c000.snappy.parquet\n",
      "-rw-r--r--   1 saxsa supergroup        657 2019-08-05 23:37 /consulta_parquet/part-00092-fc69a552-8608-4a3a-bec3-caf99c434222-c000.snappy.parquet\n",
      "-rw-r--r--   1 saxsa supergroup        648 2019-08-05 23:37 /consulta_parquet/part-00093-fc69a552-8608-4a3a-bec3-caf99c434222-c000.snappy.parquet\n",
      "-rw-r--r--   1 saxsa supergroup        663 2019-08-05 23:37 /consulta_parquet/part-00094-fc69a552-8608-4a3a-bec3-caf99c434222-c000.snappy.parquet\n",
      "-rw-r--r--   1 saxsa supergroup        623 2019-08-05 23:37 /consulta_parquet/part-00095-fc69a552-8608-4a3a-bec3-caf99c434222-c000.snappy.parquet\n",
      "-rw-r--r--   1 saxsa supergroup        662 2019-08-05 23:37 /consulta_parquet/part-00096-fc69a552-8608-4a3a-bec3-caf99c434222-c000.snappy.parquet\n",
      "-rw-r--r--   1 saxsa supergroup        646 2019-08-05 23:37 /consulta_parquet/part-00097-fc69a552-8608-4a3a-bec3-caf99c434222-c000.snappy.parquet\n",
      "-rw-r--r--   1 saxsa supergroup        623 2019-08-05 23:37 /consulta_parquet/part-00098-fc69a552-8608-4a3a-bec3-caf99c434222-c000.snappy.parquet\n",
      "-rw-r--r--   1 saxsa supergroup        632 2019-08-05 23:37 /consulta_parquet/part-00099-fc69a552-8608-4a3a-bec3-caf99c434222-c000.snappy.parquet\n",
      "-rw-r--r--   1 saxsa supergroup        658 2019-08-05 23:37 /consulta_parquet/part-00100-fc69a552-8608-4a3a-bec3-caf99c434222-c000.snappy.parquet\n",
      "-rw-r--r--   1 saxsa supergroup        652 2019-08-05 23:37 /consulta_parquet/part-00101-fc69a552-8608-4a3a-bec3-caf99c434222-c000.snappy.parquet\n",
      "-rw-r--r--   1 saxsa supergroup        623 2019-08-05 23:37 /consulta_parquet/part-00102-fc69a552-8608-4a3a-bec3-caf99c434222-c000.snappy.parquet\n",
      "-rw-r--r--   1 saxsa supergroup        651 2019-08-05 23:37 /consulta_parquet/part-00103-fc69a552-8608-4a3a-bec3-caf99c434222-c000.snappy.parquet\n",
      "-rw-r--r--   1 saxsa supergroup        638 2019-08-05 23:37 /consulta_parquet/part-00104-fc69a552-8608-4a3a-bec3-caf99c434222-c000.snappy.parquet\n",
      "-rw-r--r--   1 saxsa supergroup        658 2019-08-05 23:37 /consulta_parquet/part-00105-fc69a552-8608-4a3a-bec3-caf99c434222-c000.snappy.parquet\n",
      "-rw-r--r--   1 saxsa supergroup        628 2019-08-05 23:37 /consulta_parquet/part-00106-fc69a552-8608-4a3a-bec3-caf99c434222-c000.snappy.parquet\n",
      "-rw-r--r--   1 saxsa supergroup        667 2019-08-05 23:37 /consulta_parquet/part-00107-fc69a552-8608-4a3a-bec3-caf99c434222-c000.snappy.parquet\n",
      "-rw-r--r--   1 saxsa supergroup        617 2019-08-05 23:37 /consulta_parquet/part-00108-fc69a552-8608-4a3a-bec3-caf99c434222-c000.snappy.parquet\n",
      "-rw-r--r--   1 saxsa supergroup        658 2019-08-05 23:37 /consulta_parquet/part-00109-fc69a552-8608-4a3a-bec3-caf99c434222-c000.snappy.parquet\n",
      "-rw-r--r--   1 saxsa supergroup        632 2019-08-05 23:37 /consulta_parquet/part-00110-fc69a552-8608-4a3a-bec3-caf99c434222-c000.snappy.parquet\n",
      "-rw-r--r--   1 saxsa supergroup        667 2019-08-05 23:37 /consulta_parquet/part-00111-fc69a552-8608-4a3a-bec3-caf99c434222-c000.snappy.parquet\n",
      "-rw-r--r--   1 saxsa supergroup        623 2019-08-05 23:37 /consulta_parquet/part-00112-fc69a552-8608-4a3a-bec3-caf99c434222-c000.snappy.parquet\n",
      "-rw-r--r--   1 saxsa supergroup        642 2019-08-05 23:37 /consulta_parquet/part-00113-fc69a552-8608-4a3a-bec3-caf99c434222-c000.snappy.parquet\n",
      "-rw-r--r--   1 saxsa supergroup        623 2019-08-05 23:37 /consulta_parquet/part-00114-fc69a552-8608-4a3a-bec3-caf99c434222-c000.snappy.parquet\n",
      "-rw-r--r--   1 saxsa supergroup        659 2019-08-05 23:37 /consulta_parquet/part-00115-fc69a552-8608-4a3a-bec3-caf99c434222-c000.snappy.parquet\n",
      "-rw-r--r--   1 saxsa supergroup        633 2019-08-05 23:37 /consulta_parquet/part-00116-fc69a552-8608-4a3a-bec3-caf99c434222-c000.snappy.parquet\n",
      "-rw-r--r--   1 saxsa supergroup        617 2019-08-05 23:37 /consulta_parquet/part-00117-fc69a552-8608-4a3a-bec3-caf99c434222-c000.snappy.parquet\n",
      "-rw-r--r--   1 saxsa supergroup        655 2019-08-05 23:37 /consulta_parquet/part-00118-fc69a552-8608-4a3a-bec3-caf99c434222-c000.snappy.parquet\n",
      "-rw-r--r--   1 saxsa supergroup        623 2019-08-05 23:37 /consulta_parquet/part-00119-fc69a552-8608-4a3a-bec3-caf99c434222-c000.snappy.parquet\n",
      "-rw-r--r--   1 saxsa supergroup        623 2019-08-05 23:37 /consulta_parquet/part-00120-fc69a552-8608-4a3a-bec3-caf99c434222-c000.snappy.parquet\n",
      "-rw-r--r--   1 saxsa supergroup        633 2019-08-05 23:37 /consulta_parquet/part-00121-fc69a552-8608-4a3a-bec3-caf99c434222-c000.snappy.parquet\n",
      "-rw-r--r--   1 saxsa supergroup        646 2019-08-05 23:37 /consulta_parquet/part-00122-fc69a552-8608-4a3a-bec3-caf99c434222-c000.snappy.parquet\n",
      "-rw-r--r--   1 saxsa supergroup        641 2019-08-05 23:37 /consulta_parquet/part-00123-fc69a552-8608-4a3a-bec3-caf99c434222-c000.snappy.parquet\n",
      "-rw-r--r--   1 saxsa supergroup        623 2019-08-05 23:37 /consulta_parquet/part-00124-fc69a552-8608-4a3a-bec3-caf99c434222-c000.snappy.parquet\n",
      "-rw-r--r--   1 saxsa supergroup        628 2019-08-05 23:37 /consulta_parquet/part-00125-fc69a552-8608-4a3a-bec3-caf99c434222-c000.snappy.parquet\n",
      "-rw-r--r--   1 saxsa supergroup        663 2019-08-05 23:37 /consulta_parquet/part-00126-fc69a552-8608-4a3a-bec3-caf99c434222-c000.snappy.parquet\n",
      "-rw-r--r--   1 saxsa supergroup        617 2019-08-05 23:37 /consulta_parquet/part-00127-fc69a552-8608-4a3a-bec3-caf99c434222-c000.snappy.parquet\n",
      "-rw-r--r--   1 saxsa supergroup        633 2019-08-05 23:37 /consulta_parquet/part-00128-fc69a552-8608-4a3a-bec3-caf99c434222-c000.snappy.parquet\n",
      "-rw-r--r--   1 saxsa supergroup        641 2019-08-05 23:37 /consulta_parquet/part-00129-fc69a552-8608-4a3a-bec3-caf99c434222-c000.snappy.parquet\n",
      "-rw-r--r--   1 saxsa supergroup        668 2019-08-05 23:37 /consulta_parquet/part-00130-fc69a552-8608-4a3a-bec3-caf99c434222-c000.snappy.parquet\n",
      "-rw-r--r--   1 saxsa supergroup        645 2019-08-05 23:37 /consulta_parquet/part-00131-fc69a552-8608-4a3a-bec3-caf99c434222-c000.snappy.parquet\n",
      "-rw-r--r--   1 saxsa supergroup        641 2019-08-05 23:37 /consulta_parquet/part-00132-fc69a552-8608-4a3a-bec3-caf99c434222-c000.snappy.parquet\n",
      "-rw-r--r--   1 saxsa supergroup        641 2019-08-05 23:37 /consulta_parquet/part-00133-fc69a552-8608-4a3a-bec3-caf99c434222-c000.snappy.parquet\n",
      "-rw-r--r--   1 saxsa supergroup        645 2019-08-05 23:37 /consulta_parquet/part-00134-fc69a552-8608-4a3a-bec3-caf99c434222-c000.snappy.parquet\n",
      "-rw-r--r--   1 saxsa supergroup        657 2019-08-05 23:38 /consulta_parquet/part-00135-fc69a552-8608-4a3a-bec3-caf99c434222-c000.snappy.parquet\n",
      "-rw-r--r--   1 saxsa supergroup        649 2019-08-05 23:38 /consulta_parquet/part-00136-fc69a552-8608-4a3a-bec3-caf99c434222-c000.snappy.parquet\n",
      "-rw-r--r--   1 saxsa supergroup        645 2019-08-05 23:38 /consulta_parquet/part-00137-fc69a552-8608-4a3a-bec3-caf99c434222-c000.snappy.parquet\n",
      "-rw-r--r--   1 saxsa supergroup        680 2019-08-05 23:38 /consulta_parquet/part-00138-fc69a552-8608-4a3a-bec3-caf99c434222-c000.snappy.parquet\n",
      "-rw-r--r--   1 saxsa supergroup        680 2019-08-05 23:38 /consulta_parquet/part-00139-fc69a552-8608-4a3a-bec3-caf99c434222-c000.snappy.parquet\n",
      "-rw-r--r--   1 saxsa supergroup        657 2019-08-05 23:38 /consulta_parquet/part-00140-fc69a552-8608-4a3a-bec3-caf99c434222-c000.snappy.parquet\n",
      "-rw-r--r--   1 saxsa supergroup        680 2019-08-05 23:38 /consulta_parquet/part-00141-fc69a552-8608-4a3a-bec3-caf99c434222-c000.snappy.parquet\n",
      "-rw-r--r--   1 saxsa supergroup        688 2019-08-05 23:38 /consulta_parquet/part-00142-fc69a552-8608-4a3a-bec3-caf99c434222-c000.snappy.parquet\n",
      "-rw-r--r--   1 saxsa supergroup        684 2019-08-05 23:38 /consulta_parquet/part-00143-fc69a552-8608-4a3a-bec3-caf99c434222-c000.snappy.parquet\n",
      "-rw-r--r--   1 saxsa supergroup        708 2019-08-05 23:38 /consulta_parquet/part-00144-fc69a552-8608-4a3a-bec3-caf99c434222-c000.snappy.parquet\n",
      "-rw-r--r--   1 saxsa supergroup        773 2019-08-05 23:38 /consulta_parquet/part-00145-fc69a552-8608-4a3a-bec3-caf99c434222-c000.snappy.parquet\n",
      "-rw-r--r--   1 saxsa supergroup        781 2019-08-05 23:38 /consulta_parquet/part-00146-fc69a552-8608-4a3a-bec3-caf99c434222-c000.snappy.parquet\n",
      "-rw-r--r--   1 saxsa supergroup        878 2019-08-05 23:38 /consulta_parquet/part-00147-fc69a552-8608-4a3a-bec3-caf99c434222-c000.snappy.parquet\n",
      "-rw-r--r--   1 saxsa supergroup       1122 2019-08-05 23:38 /consulta_parquet/part-00148-fc69a552-8608-4a3a-bec3-caf99c434222-c000.snappy.parquet\n"
     ]
    }
   ],
   "source": [
    "%%bash\n",
    "\n",
    "hdfs dfs -ls /consulta_parquet"
   ]
  },
  {
   "cell_type": "code",
   "execution_count": 3,
   "metadata": {},
   "outputs": [
    {
     "name": "stdout",
     "output_type": "stream",
     "text": [
      "Starting Spark application\n"
     ]
    },
    {
     "data": {
      "text/html": [
       "<table>\n",
       "<tr><th>ID</th><th>YARN Application ID</th><th>Kind</th><th>State</th><th>Spark UI</th><th>Driver log</th><th>Current session?</th></tr><tr><td>7</td><td>None</td><td>pyspark3</td><td>idle</td><td></td><td></td><td>✔</td></tr></table>"
      ],
      "text/plain": [
       "<IPython.core.display.HTML object>"
      ]
     },
     "metadata": {},
     "output_type": "display_data"
    },
    {
     "name": "stdout",
     "output_type": "stream",
     "text": [
      "SparkSession available as 'spark'.\n",
      "<SparkContext master=spark://hostsaxsa:7077 appName=livy-session-7>"
     ]
    }
   ],
   "source": [
    "sc"
   ]
  },
  {
   "cell_type": "code",
   "execution_count": 4,
   "metadata": {},
   "outputs": [],
   "source": [
    "df_par = spark.read.parquet('/consulta_parquet')"
   ]
  },
  {
   "cell_type": "code",
   "execution_count": 5,
   "metadata": {},
   "outputs": [
    {
     "name": "stdout",
     "output_type": "stream",
     "text": [
      "+-----------+-----+\n",
      "|Producto_ID|count|\n",
      "+-----------+-----+\n",
      "|       2233|94763|\n",
      "|       1242|85109|\n",
      "|       1250|77308|\n",
      "|      35305|72972|\n",
      "|       1240|69454|\n",
      "|       1146|68716|\n",
      "|       1109|65984|\n",
      "|       1232|64003|\n",
      "|       1125|62965|\n",
      "|       1278|61439|\n",
      "|      43069|61207|\n",
      "|      43285|58953|\n",
      "|       1284|56728|\n",
      "|      30532|55688|\n",
      "|      35651|52796|\n",
      "|       1212|51713|\n",
      "|       1238|50749|\n",
      "|       1150|50480|\n",
      "|       1309|48998|\n",
      "|      37361|48087|\n",
      "+-----------+-----+\n",
      "only showing top 20 rows"
     ]
    }
   ],
   "source": [
    "df_par.sort('count', ascending=False).show()"
   ]
  },
  {
   "cell_type": "code",
   "execution_count": 6,
   "metadata": {},
   "outputs": [],
   "source": [
    "df_mon = spark.read.format(\"com.mongodb.spark.sql.DefaultSource\")\\\n",
    "    .option(\"spark.mongodb.input.uri\", \"mongodb://127.0.0.1/bimbodb.producto?readPreference=primaryPreferred\")\\\n",
    "    .option(\"spark.mongodb.output.uri\", \"mongodb://127.0.0.1/bimbodb.producto\").load()"
   ]
  },
  {
   "cell_type": "code",
   "execution_count": 7,
   "metadata": {},
   "outputs": [
    {
     "name": "stdout",
     "output_type": "stream",
     "text": [
      "+--------------------+-----------+\n",
      "|      NombreProducto|Producto_ID|\n",
      "+--------------------+-----------+\n",
      "|   NO IDENTIFICADO 0|          0|\n",
      "|Capuccino Moka 75...|          9|\n",
      "|Bimbollos Ext sAj...|         41|\n",
      "|Burritos Sincro 1...|         53|\n",
      "|Div Tira Mini Dor...|         72|\n",
      "|Pan Multigrano Li...|         73|\n",
      "|Tostado Integral ...|         98|\n",
      "|Pan Blanco 567g W...|         99|\n",
      "|Super Pan Bco Ajo...|        100|\n",
      "|Wonder 100pct med...|        106|\n",
      "|Wonder 100pct gde...|        107|\n",
      "|Baguette Precocid...|        108|\n",
      "|Pan Multicereal 4...|        109|\n",
      "|Tostado Integral ...|        112|\n",
      "|Biscotel Receta O...|        122|\n",
      "|Super Bollos 5in ...|        123|\n",
      "|Bollos 8p 450g WO...|        125|\n",
      "|Bollos BK 4in 36p...|        131|\n",
      "|Bollos BK 5in 30p...|        132|\n",
      "|Bollos BK 4in 30p...|        134|\n",
      "+--------------------+-----------+\n",
      "only showing top 20 rows"
     ]
    }
   ],
   "source": [
    "df_mon = df_mon.drop('_id')\n",
    "df_mon.show()"
   ]
  },
  {
   "cell_type": "code",
   "execution_count": 8,
   "metadata": {},
   "outputs": [],
   "source": [
    "df_my = spark.read.format(\"jdbc\").options(\n",
    "    url=\"jdbc:mysql://localhost/bimbodb\",\n",
    "    driver=\"com.mysql.jdbc.Driver\",\n",
    "    dbtable=\"test\",\n",
    "    user=\"saxsauser\",\n",
    "    password=\"ggsaXsa\").load()"
   ]
  },
  {
   "cell_type": "code",
   "execution_count": 9,
   "metadata": {},
   "outputs": [
    {
     "name": "stdout",
     "output_type": "stream",
     "text": [
      "+-------+------+----------+--------+--------+----------+-----------+\n",
      "|     id|Semana|Agencia_ID|Canal_ID|Ruta_SAK|Cliente_ID|Producto_ID|\n",
      "+-------+------+----------+--------+--------+----------+-----------+\n",
      "|1232998|    10|      1420|       1|    1206|   1875998|      34213|\n",
      "|6662861|    11|      4010|       1|    2106|   1661843|      30549|\n",
      "|4007443|    10|      1375|       1|    2008|   1234559|      43307|\n",
      "|4840434|    10|      1531|       1|    2111|    158133|      35303|\n",
      "|5379458|    11|      1544|       1|    1231|   2309256|       2233|\n",
      "|4230113|    11|      1629|       1|    1120|   4527410|      41938|\n",
      "|4947304|    10|      1470|       1|    2012|   4435970|      36610|\n",
      "|2430839|    10|      1122|       1|    1056|   2055889|       1109|\n",
      "| 922781|    10|      2032|       1|    1160|   4200375|       1212|\n",
      "| 874484|    11|      1216|       1|    2126|   4522344|      35305|\n",
      "|4004454|    10|      1315|       1|    2857|   4573216|      37361|\n",
      "|3222214|    10|      1955|       1|    4135|    573512|      43064|\n",
      "|2190518|    11|      1338|       1|    2003|    198309|      43274|\n",
      "|5198653|    10|      2644|       1|    1601|    273971|       4270|\n",
      "|5500625|    11|      2014|       1|    1215|    276970|      45143|\n",
      "|3020804|    11|      2011|       4|    6602|    126719|       1160|\n",
      "|3555574|    11|      4063|       2|    1552|   2451950|      43344|\n",
      "| 698267|    11|      1221|       1|    2109|     58826|      30532|\n",
      "| 845847|    11|      1124|       1|    1019|   1590017|       1109|\n",
      "|2472282|    11|      1954|       1|    1207|   1101612|       1146|\n",
      "+-------+------+----------+--------+--------+----------+-----------+\n",
      "only showing top 20 rows"
     ]
    }
   ],
   "source": [
    "df_my.show()"
   ]
  },
  {
   "cell_type": "code",
   "execution_count": 10,
   "metadata": {},
   "outputs": [
    {
     "name": "stdout",
     "output_type": "stream",
     "text": [
      "+-----------+-----+--------------------+-----------+\n",
      "|Producto_ID|count|      NombreProducto|Producto_ID|\n",
      "+-----------+-----+--------------------+-----------+\n",
      "|       1242|85109|Donitas Espolvore...|       1242|\n",
      "|       1250|77308|Donas Azucar 4p 1...|       1250|\n",
      "|       2233|94763|Pan Blanco 640g B...|       2233|\n",
      "+-----------+-----+--------------------+-----------+"
     ]
    }
   ],
   "source": [
    "from pyspark.sql.functions import col\n",
    "x = df_par.filter((col(\"Producto_ID\") == 1250) | (col(\"Producto_ID\") == 1242) | (col(\"Producto_ID\") == 2233))\n",
    "y = df_mon.filter((col('Producto_ID') == 1250) | (col('Producto_ID') == 1242) | (col(\"Producto_ID\") == 2233))\n",
    "x.join(y, x.Producto_ID == y.Producto_ID, 'outer').show()"
   ]
  },
  {
   "cell_type": "code",
   "execution_count": null,
   "metadata": {},
   "outputs": [],
   "source": []
  }
 ],
 "metadata": {
  "kernelspec": {
   "display_name": "PySpark3",
   "language": "",
   "name": "pyspark3kernel"
  },
  "language_info": {
   "codemirror_mode": {
    "name": "python",
    "version": 3
   },
   "mimetype": "text/x-python",
   "name": "pyspark3",
   "pygments_lexer": "python3"
  }
 },
 "nbformat": 4,
 "nbformat_minor": 2
}
