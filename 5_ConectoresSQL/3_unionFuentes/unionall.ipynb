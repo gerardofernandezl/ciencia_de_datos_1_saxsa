{
 "cells": [
  {
   "cell_type": "code",
   "execution_count": 8,
   "metadata": {},
   "outputs": [
    {
     "name": "stdout",
     "output_type": "stream",
     "text": [
      "24928 SecondaryNameNode\n",
      "24737 DataNode\n",
      "29361 Jps\n",
      "25300 LivyServer\n",
      "28037 Worker\n",
      "29205 SparkSubmit\n",
      "24572 NameNode\n"
     ]
    }
   ],
   "source": [
    "%%bash\n",
    "\n",
    "jps"
   ]
  },
  {
   "cell_type": "code",
   "execution_count": 13,
   "metadata": {},
   "outputs": [
    {
     "name": "stdout",
     "output_type": "stream",
     "text": [
      "Found 150 items\n",
      "-rw-r--r--   1 saxsa supergroup          0 2019-06-22 14:25 /consulta_parquet/_SUCCESS\n",
      "-rw-r--r--   1 saxsa supergroup        654 2019-06-22 14:24 /consulta_parquet/part-00000-bd2c1b75-dbd4-46ec-b72c-676c64044587-c000.snappy.parquet\n",
      "-rw-r--r--   1 saxsa supergroup        645 2019-06-22 14:24 /consulta_parquet/part-00001-bd2c1b75-dbd4-46ec-b72c-676c64044587-c000.snappy.parquet\n",
      "-rw-r--r--   1 saxsa supergroup        644 2019-06-22 14:24 /consulta_parquet/part-00002-bd2c1b75-dbd4-46ec-b72c-676c64044587-c000.snappy.parquet\n",
      "-rw-r--r--   1 saxsa supergroup        644 2019-06-22 14:24 /consulta_parquet/part-00003-bd2c1b75-dbd4-46ec-b72c-676c64044587-c000.snappy.parquet\n",
      "-rw-r--r--   1 saxsa supergroup        643 2019-06-22 14:24 /consulta_parquet/part-00004-bd2c1b75-dbd4-46ec-b72c-676c64044587-c000.snappy.parquet\n",
      "-rw-r--r--   1 saxsa supergroup        643 2019-06-22 14:24 /consulta_parquet/part-00005-bd2c1b75-dbd4-46ec-b72c-676c64044587-c000.snappy.parquet\n",
      "-rw-r--r--   1 saxsa supergroup        644 2019-06-22 14:24 /consulta_parquet/part-00006-bd2c1b75-dbd4-46ec-b72c-676c64044587-c000.snappy.parquet\n",
      "-rw-r--r--   1 saxsa supergroup        653 2019-06-22 14:24 /consulta_parquet/part-00007-bd2c1b75-dbd4-46ec-b72c-676c64044587-c000.snappy.parquet\n",
      "-rw-r--r--   1 saxsa supergroup        643 2019-06-22 14:24 /consulta_parquet/part-00008-bd2c1b75-dbd4-46ec-b72c-676c64044587-c000.snappy.parquet\n",
      "-rw-r--r--   1 saxsa supergroup        642 2019-06-22 14:24 /consulta_parquet/part-00009-bd2c1b75-dbd4-46ec-b72c-676c64044587-c000.snappy.parquet\n",
      "-rw-r--r--   1 saxsa supergroup        642 2019-06-22 14:24 /consulta_parquet/part-00010-bd2c1b75-dbd4-46ec-b72c-676c64044587-c000.snappy.parquet\n",
      "-rw-r--r--   1 saxsa supergroup        641 2019-06-22 14:24 /consulta_parquet/part-00011-bd2c1b75-dbd4-46ec-b72c-676c64044587-c000.snappy.parquet\n",
      "-rw-r--r--   1 saxsa supergroup        673 2019-06-22 14:24 /consulta_parquet/part-00012-bd2c1b75-dbd4-46ec-b72c-676c64044587-c000.snappy.parquet\n",
      "-rw-r--r--   1 saxsa supergroup        632 2019-06-22 14:24 /consulta_parquet/part-00013-bd2c1b75-dbd4-46ec-b72c-676c64044587-c000.snappy.parquet\n",
      "-rw-r--r--   1 saxsa supergroup        641 2019-06-22 14:24 /consulta_parquet/part-00014-bd2c1b75-dbd4-46ec-b72c-676c64044587-c000.snappy.parquet\n",
      "-rw-r--r--   1 saxsa supergroup        652 2019-06-22 14:24 /consulta_parquet/part-00015-bd2c1b75-dbd4-46ec-b72c-676c64044587-c000.snappy.parquet\n",
      "-rw-r--r--   1 saxsa supergroup        662 2019-06-22 14:24 /consulta_parquet/part-00016-bd2c1b75-dbd4-46ec-b72c-676c64044587-c000.snappy.parquet\n",
      "-rw-r--r--   1 saxsa supergroup        641 2019-06-22 14:24 /consulta_parquet/part-00017-bd2c1b75-dbd4-46ec-b72c-676c64044587-c000.snappy.parquet\n",
      "-rw-r--r--   1 saxsa supergroup        642 2019-06-22 14:24 /consulta_parquet/part-00018-bd2c1b75-dbd4-46ec-b72c-676c64044587-c000.snappy.parquet\n",
      "-rw-r--r--   1 saxsa supergroup        641 2019-06-22 14:24 /consulta_parquet/part-00019-bd2c1b75-dbd4-46ec-b72c-676c64044587-c000.snappy.parquet\n",
      "-rw-r--r--   1 saxsa supergroup        641 2019-06-22 14:24 /consulta_parquet/part-00020-bd2c1b75-dbd4-46ec-b72c-676c64044587-c000.snappy.parquet\n",
      "-rw-r--r--   1 saxsa supergroup        639 2019-06-22 14:24 /consulta_parquet/part-00021-bd2c1b75-dbd4-46ec-b72c-676c64044587-c000.snappy.parquet\n",
      "-rw-r--r--   1 saxsa supergroup        641 2019-06-22 14:24 /consulta_parquet/part-00022-bd2c1b75-dbd4-46ec-b72c-676c64044587-c000.snappy.parquet\n",
      "-rw-r--r--   1 saxsa supergroup        651 2019-06-22 14:24 /consulta_parquet/part-00023-bd2c1b75-dbd4-46ec-b72c-676c64044587-c000.snappy.parquet\n",
      "-rw-r--r--   1 saxsa supergroup        664 2019-06-22 14:24 /consulta_parquet/part-00024-bd2c1b75-dbd4-46ec-b72c-676c64044587-c000.snappy.parquet\n",
      "-rw-r--r--   1 saxsa supergroup        639 2019-06-22 14:24 /consulta_parquet/part-00025-bd2c1b75-dbd4-46ec-b72c-676c64044587-c000.snappy.parquet\n",
      "-rw-r--r--   1 saxsa supergroup        641 2019-06-22 14:24 /consulta_parquet/part-00026-bd2c1b75-dbd4-46ec-b72c-676c64044587-c000.snappy.parquet\n",
      "-rw-r--r--   1 saxsa supergroup        641 2019-06-22 14:24 /consulta_parquet/part-00027-bd2c1b75-dbd4-46ec-b72c-676c64044587-c000.snappy.parquet\n",
      "-rw-r--r--   1 saxsa supergroup        639 2019-06-22 14:24 /consulta_parquet/part-00028-bd2c1b75-dbd4-46ec-b72c-676c64044587-c000.snappy.parquet\n",
      "-rw-r--r--   1 saxsa supergroup        639 2019-06-22 14:24 /consulta_parquet/part-00029-bd2c1b75-dbd4-46ec-b72c-676c64044587-c000.snappy.parquet\n",
      "-rw-r--r--   1 saxsa supergroup        648 2019-06-22 14:24 /consulta_parquet/part-00030-bd2c1b75-dbd4-46ec-b72c-676c64044587-c000.snappy.parquet\n",
      "-rw-r--r--   1 saxsa supergroup        641 2019-06-22 14:24 /consulta_parquet/part-00031-bd2c1b75-dbd4-46ec-b72c-676c64044587-c000.snappy.parquet\n",
      "-rw-r--r--   1 saxsa supergroup        670 2019-06-22 14:24 /consulta_parquet/part-00032-bd2c1b75-dbd4-46ec-b72c-676c64044587-c000.snappy.parquet\n",
      "-rw-r--r--   1 saxsa supergroup        630 2019-06-22 14:24 /consulta_parquet/part-00033-bd2c1b75-dbd4-46ec-b72c-676c64044587-c000.snappy.parquet\n",
      "-rw-r--r--   1 saxsa supergroup        639 2019-06-22 14:24 /consulta_parquet/part-00034-bd2c1b75-dbd4-46ec-b72c-676c64044587-c000.snappy.parquet\n",
      "-rw-r--r--   1 saxsa supergroup        641 2019-06-22 14:24 /consulta_parquet/part-00035-bd2c1b75-dbd4-46ec-b72c-676c64044587-c000.snappy.parquet\n",
      "-rw-r--r--   1 saxsa supergroup        639 2019-06-22 14:24 /consulta_parquet/part-00036-bd2c1b75-dbd4-46ec-b72c-676c64044587-c000.snappy.parquet\n",
      "-rw-r--r--   1 saxsa supergroup        670 2019-06-22 14:24 /consulta_parquet/part-00037-bd2c1b75-dbd4-46ec-b72c-676c64044587-c000.snappy.parquet\n",
      "-rw-r--r--   1 saxsa supergroup        639 2019-06-22 14:24 /consulta_parquet/part-00038-bd2c1b75-dbd4-46ec-b72c-676c64044587-c000.snappy.parquet\n",
      "-rw-r--r--   1 saxsa supergroup        639 2019-06-22 14:24 /consulta_parquet/part-00039-bd2c1b75-dbd4-46ec-b72c-676c64044587-c000.snappy.parquet\n",
      "-rw-r--r--   1 saxsa supergroup        639 2019-06-22 14:24 /consulta_parquet/part-00040-bd2c1b75-dbd4-46ec-b72c-676c64044587-c000.snappy.parquet\n",
      "-rw-r--r--   1 saxsa supergroup        662 2019-06-22 14:24 /consulta_parquet/part-00041-bd2c1b75-dbd4-46ec-b72c-676c64044587-c000.snappy.parquet\n",
      "-rw-r--r--   1 saxsa supergroup        630 2019-06-22 14:24 /consulta_parquet/part-00042-bd2c1b75-dbd4-46ec-b72c-676c64044587-c000.snappy.parquet\n",
      "-rw-r--r--   1 saxsa supergroup        639 2019-06-22 14:24 /consulta_parquet/part-00043-bd2c1b75-dbd4-46ec-b72c-676c64044587-c000.snappy.parquet\n",
      "-rw-r--r--   1 saxsa supergroup        641 2019-06-22 14:24 /consulta_parquet/part-00044-bd2c1b75-dbd4-46ec-b72c-676c64044587-c000.snappy.parquet\n",
      "-rw-r--r--   1 saxsa supergroup        662 2019-06-22 14:24 /consulta_parquet/part-00045-bd2c1b75-dbd4-46ec-b72c-676c64044587-c000.snappy.parquet\n",
      "-rw-r--r--   1 saxsa supergroup        648 2019-06-22 14:24 /consulta_parquet/part-00046-bd2c1b75-dbd4-46ec-b72c-676c64044587-c000.snappy.parquet\n",
      "-rw-r--r--   1 saxsa supergroup        662 2019-06-22 14:24 /consulta_parquet/part-00047-bd2c1b75-dbd4-46ec-b72c-676c64044587-c000.snappy.parquet\n",
      "-rw-r--r--   1 saxsa supergroup        662 2019-06-22 14:24 /consulta_parquet/part-00048-bd2c1b75-dbd4-46ec-b72c-676c64044587-c000.snappy.parquet\n",
      "-rw-r--r--   1 saxsa supergroup        639 2019-06-22 14:24 /consulta_parquet/part-00049-bd2c1b75-dbd4-46ec-b72c-676c64044587-c000.snappy.parquet\n",
      "-rw-r--r--   1 saxsa supergroup        662 2019-06-22 14:24 /consulta_parquet/part-00050-bd2c1b75-dbd4-46ec-b72c-676c64044587-c000.snappy.parquet\n",
      "-rw-r--r--   1 saxsa supergroup        641 2019-06-22 14:24 /consulta_parquet/part-00051-bd2c1b75-dbd4-46ec-b72c-676c64044587-c000.snappy.parquet\n",
      "-rw-r--r--   1 saxsa supergroup        662 2019-06-22 14:24 /consulta_parquet/part-00052-bd2c1b75-dbd4-46ec-b72c-676c64044587-c000.snappy.parquet\n",
      "-rw-r--r--   1 saxsa supergroup        648 2019-06-22 14:24 /consulta_parquet/part-00053-bd2c1b75-dbd4-46ec-b72c-676c64044587-c000.snappy.parquet\n",
      "-rw-r--r--   1 saxsa supergroup        639 2019-06-22 14:24 /consulta_parquet/part-00054-bd2c1b75-dbd4-46ec-b72c-676c64044587-c000.snappy.parquet\n",
      "-rw-r--r--   1 saxsa supergroup        662 2019-06-22 14:24 /consulta_parquet/part-00055-bd2c1b75-dbd4-46ec-b72c-676c64044587-c000.snappy.parquet\n",
      "-rw-r--r--   1 saxsa supergroup        639 2019-06-22 14:24 /consulta_parquet/part-00056-bd2c1b75-dbd4-46ec-b72c-676c64044587-c000.snappy.parquet\n",
      "-rw-r--r--   1 saxsa supergroup        639 2019-06-22 14:24 /consulta_parquet/part-00057-bd2c1b75-dbd4-46ec-b72c-676c64044587-c000.snappy.parquet\n",
      "-rw-r--r--   1 saxsa supergroup        658 2019-06-22 14:24 /consulta_parquet/part-00058-bd2c1b75-dbd4-46ec-b72c-676c64044587-c000.snappy.parquet\n",
      "-rw-r--r--   1 saxsa supergroup        658 2019-06-22 14:24 /consulta_parquet/part-00059-bd2c1b75-dbd4-46ec-b72c-676c64044587-c000.snappy.parquet\n",
      "-rw-r--r--   1 saxsa supergroup        658 2019-06-22 14:24 /consulta_parquet/part-00060-bd2c1b75-dbd4-46ec-b72c-676c64044587-c000.snappy.parquet\n",
      "-rw-r--r--   1 saxsa supergroup        670 2019-06-22 14:24 /consulta_parquet/part-00061-bd2c1b75-dbd4-46ec-b72c-676c64044587-c000.snappy.parquet\n",
      "-rw-r--r--   1 saxsa supergroup        658 2019-06-22 14:24 /consulta_parquet/part-00062-bd2c1b75-dbd4-46ec-b72c-676c64044587-c000.snappy.parquet\n",
      "-rw-r--r--   1 saxsa supergroup        662 2019-06-22 14:24 /consulta_parquet/part-00063-bd2c1b75-dbd4-46ec-b72c-676c64044587-c000.snappy.parquet\n",
      "-rw-r--r--   1 saxsa supergroup        662 2019-06-22 14:24 /consulta_parquet/part-00064-bd2c1b75-dbd4-46ec-b72c-676c64044587-c000.snappy.parquet\n",
      "-rw-r--r--   1 saxsa supergroup        653 2019-06-22 14:24 /consulta_parquet/part-00065-bd2c1b75-dbd4-46ec-b72c-676c64044587-c000.snappy.parquet\n",
      "-rw-r--r--   1 saxsa supergroup        653 2019-06-22 14:24 /consulta_parquet/part-00066-bd2c1b75-dbd4-46ec-b72c-676c64044587-c000.snappy.parquet\n",
      "-rw-r--r--   1 saxsa supergroup        672 2019-06-22 14:24 /consulta_parquet/part-00067-bd2c1b75-dbd4-46ec-b72c-676c64044587-c000.snappy.parquet\n",
      "-rw-r--r--   1 saxsa supergroup        662 2019-06-22 14:24 /consulta_parquet/part-00068-bd2c1b75-dbd4-46ec-b72c-676c64044587-c000.snappy.parquet\n",
      "-rw-r--r--   1 saxsa supergroup        639 2019-06-22 14:24 /consulta_parquet/part-00069-bd2c1b75-dbd4-46ec-b72c-676c64044587-c000.snappy.parquet\n",
      "-rw-r--r--   1 saxsa supergroup        653 2019-06-22 14:24 /consulta_parquet/part-00070-bd2c1b75-dbd4-46ec-b72c-676c64044587-c000.snappy.parquet\n",
      "-rw-r--r--   1 saxsa supergroup        653 2019-06-22 14:24 /consulta_parquet/part-00071-bd2c1b75-dbd4-46ec-b72c-676c64044587-c000.snappy.parquet\n",
      "-rw-r--r--   1 saxsa supergroup        658 2019-06-22 14:24 /consulta_parquet/part-00072-bd2c1b75-dbd4-46ec-b72c-676c64044587-c000.snappy.parquet\n",
      "-rw-r--r--   1 saxsa supergroup        662 2019-06-22 14:24 /consulta_parquet/part-00073-bd2c1b75-dbd4-46ec-b72c-676c64044587-c000.snappy.parquet\n",
      "-rw-r--r--   1 saxsa supergroup        657 2019-06-22 14:24 /consulta_parquet/part-00074-bd2c1b75-dbd4-46ec-b72c-676c64044587-c000.snappy.parquet\n",
      "-rw-r--r--   1 saxsa supergroup        653 2019-06-22 14:24 /consulta_parquet/part-00075-bd2c1b75-dbd4-46ec-b72c-676c64044587-c000.snappy.parquet\n",
      "-rw-r--r--   1 saxsa supergroup        669 2019-06-22 14:24 /consulta_parquet/part-00076-bd2c1b75-dbd4-46ec-b72c-676c64044587-c000.snappy.parquet\n",
      "-rw-r--r--   1 saxsa supergroup        658 2019-06-22 14:24 /consulta_parquet/part-00077-bd2c1b75-dbd4-46ec-b72c-676c64044587-c000.snappy.parquet\n",
      "-rw-r--r--   1 saxsa supergroup        648 2019-06-22 14:24 /consulta_parquet/part-00078-bd2c1b75-dbd4-46ec-b72c-676c64044587-c000.snappy.parquet\n",
      "-rw-r--r--   1 saxsa supergroup        662 2019-06-22 14:24 /consulta_parquet/part-00079-bd2c1b75-dbd4-46ec-b72c-676c64044587-c000.snappy.parquet\n",
      "-rw-r--r--   1 saxsa supergroup        648 2019-06-22 14:24 /consulta_parquet/part-00080-bd2c1b75-dbd4-46ec-b72c-676c64044587-c000.snappy.parquet\n",
      "-rw-r--r--   1 saxsa supergroup        673 2019-06-22 14:24 /consulta_parquet/part-00081-bd2c1b75-dbd4-46ec-b72c-676c64044587-c000.snappy.parquet\n",
      "-rw-r--r--   1 saxsa supergroup        626 2019-06-22 14:24 /consulta_parquet/part-00082-bd2c1b75-dbd4-46ec-b72c-676c64044587-c000.snappy.parquet\n",
      "-rw-r--r--   1 saxsa supergroup        658 2019-06-22 14:24 /consulta_parquet/part-00083-bd2c1b75-dbd4-46ec-b72c-676c64044587-c000.snappy.parquet\n",
      "-rw-r--r--   1 saxsa supergroup        666 2019-06-22 14:24 /consulta_parquet/part-00084-bd2c1b75-dbd4-46ec-b72c-676c64044587-c000.snappy.parquet\n",
      "-rw-r--r--   1 saxsa supergroup        642 2019-06-22 14:24 /consulta_parquet/part-00085-bd2c1b75-dbd4-46ec-b72c-676c64044587-c000.snappy.parquet\n",
      "-rw-r--r--   1 saxsa supergroup        609 2019-06-22 14:24 /consulta_parquet/part-00086-bd2c1b75-dbd4-46ec-b72c-676c64044587-c000.snappy.parquet\n",
      "-rw-r--r--   1 saxsa supergroup        648 2019-06-22 14:24 /consulta_parquet/part-00087-bd2c1b75-dbd4-46ec-b72c-676c64044587-c000.snappy.parquet\n",
      "-rw-r--r--   1 saxsa supergroup        658 2019-06-22 14:24 /consulta_parquet/part-00088-bd2c1b75-dbd4-46ec-b72c-676c64044587-c000.snappy.parquet\n",
      "-rw-r--r--   1 saxsa supergroup        643 2019-06-22 14:24 /consulta_parquet/part-00089-bd2c1b75-dbd4-46ec-b72c-676c64044587-c000.snappy.parquet\n",
      "-rw-r--r--   1 saxsa supergroup        648 2019-06-22 14:24 /consulta_parquet/part-00090-bd2c1b75-dbd4-46ec-b72c-676c64044587-c000.snappy.parquet\n",
      "-rw-r--r--   1 saxsa supergroup        653 2019-06-22 14:24 /consulta_parquet/part-00091-bd2c1b75-dbd4-46ec-b72c-676c64044587-c000.snappy.parquet\n",
      "-rw-r--r--   1 saxsa supergroup        657 2019-06-22 14:24 /consulta_parquet/part-00092-bd2c1b75-dbd4-46ec-b72c-676c64044587-c000.snappy.parquet\n",
      "-rw-r--r--   1 saxsa supergroup        648 2019-06-22 14:24 /consulta_parquet/part-00093-bd2c1b75-dbd4-46ec-b72c-676c64044587-c000.snappy.parquet\n",
      "-rw-r--r--   1 saxsa supergroup        663 2019-06-22 14:24 /consulta_parquet/part-00094-bd2c1b75-dbd4-46ec-b72c-676c64044587-c000.snappy.parquet\n",
      "-rw-r--r--   1 saxsa supergroup        623 2019-06-22 14:24 /consulta_parquet/part-00095-bd2c1b75-dbd4-46ec-b72c-676c64044587-c000.snappy.parquet\n",
      "-rw-r--r--   1 saxsa supergroup        662 2019-06-22 14:24 /consulta_parquet/part-00096-bd2c1b75-dbd4-46ec-b72c-676c64044587-c000.snappy.parquet\n",
      "-rw-r--r--   1 saxsa supergroup        646 2019-06-22 14:25 /consulta_parquet/part-00097-bd2c1b75-dbd4-46ec-b72c-676c64044587-c000.snappy.parquet\n",
      "-rw-r--r--   1 saxsa supergroup        623 2019-06-22 14:25 /consulta_parquet/part-00098-bd2c1b75-dbd4-46ec-b72c-676c64044587-c000.snappy.parquet\n",
      "-rw-r--r--   1 saxsa supergroup        632 2019-06-22 14:25 /consulta_parquet/part-00099-bd2c1b75-dbd4-46ec-b72c-676c64044587-c000.snappy.parquet\n",
      "-rw-r--r--   1 saxsa supergroup        658 2019-06-22 14:25 /consulta_parquet/part-00100-bd2c1b75-dbd4-46ec-b72c-676c64044587-c000.snappy.parquet\n",
      "-rw-r--r--   1 saxsa supergroup        652 2019-06-22 14:25 /consulta_parquet/part-00101-bd2c1b75-dbd4-46ec-b72c-676c64044587-c000.snappy.parquet\n",
      "-rw-r--r--   1 saxsa supergroup        623 2019-06-22 14:25 /consulta_parquet/part-00102-bd2c1b75-dbd4-46ec-b72c-676c64044587-c000.snappy.parquet\n",
      "-rw-r--r--   1 saxsa supergroup        651 2019-06-22 14:25 /consulta_parquet/part-00103-bd2c1b75-dbd4-46ec-b72c-676c64044587-c000.snappy.parquet\n",
      "-rw-r--r--   1 saxsa supergroup        638 2019-06-22 14:25 /consulta_parquet/part-00104-bd2c1b75-dbd4-46ec-b72c-676c64044587-c000.snappy.parquet\n",
      "-rw-r--r--   1 saxsa supergroup        658 2019-06-22 14:25 /consulta_parquet/part-00105-bd2c1b75-dbd4-46ec-b72c-676c64044587-c000.snappy.parquet\n",
      "-rw-r--r--   1 saxsa supergroup        628 2019-06-22 14:25 /consulta_parquet/part-00106-bd2c1b75-dbd4-46ec-b72c-676c64044587-c000.snappy.parquet\n",
      "-rw-r--r--   1 saxsa supergroup        667 2019-06-22 14:25 /consulta_parquet/part-00107-bd2c1b75-dbd4-46ec-b72c-676c64044587-c000.snappy.parquet\n",
      "-rw-r--r--   1 saxsa supergroup        617 2019-06-22 14:25 /consulta_parquet/part-00108-bd2c1b75-dbd4-46ec-b72c-676c64044587-c000.snappy.parquet\n",
      "-rw-r--r--   1 saxsa supergroup        658 2019-06-22 14:25 /consulta_parquet/part-00109-bd2c1b75-dbd4-46ec-b72c-676c64044587-c000.snappy.parquet\n",
      "-rw-r--r--   1 saxsa supergroup        632 2019-06-22 14:25 /consulta_parquet/part-00110-bd2c1b75-dbd4-46ec-b72c-676c64044587-c000.snappy.parquet\n",
      "-rw-r--r--   1 saxsa supergroup        667 2019-06-22 14:25 /consulta_parquet/part-00111-bd2c1b75-dbd4-46ec-b72c-676c64044587-c000.snappy.parquet\n",
      "-rw-r--r--   1 saxsa supergroup        623 2019-06-22 14:25 /consulta_parquet/part-00112-bd2c1b75-dbd4-46ec-b72c-676c64044587-c000.snappy.parquet\n",
      "-rw-r--r--   1 saxsa supergroup        642 2019-06-22 14:25 /consulta_parquet/part-00113-bd2c1b75-dbd4-46ec-b72c-676c64044587-c000.snappy.parquet\n",
      "-rw-r--r--   1 saxsa supergroup        623 2019-06-22 14:25 /consulta_parquet/part-00114-bd2c1b75-dbd4-46ec-b72c-676c64044587-c000.snappy.parquet\n",
      "-rw-r--r--   1 saxsa supergroup        659 2019-06-22 14:25 /consulta_parquet/part-00115-bd2c1b75-dbd4-46ec-b72c-676c64044587-c000.snappy.parquet\n",
      "-rw-r--r--   1 saxsa supergroup        633 2019-06-22 14:25 /consulta_parquet/part-00116-bd2c1b75-dbd4-46ec-b72c-676c64044587-c000.snappy.parquet\n",
      "-rw-r--r--   1 saxsa supergroup        617 2019-06-22 14:25 /consulta_parquet/part-00117-bd2c1b75-dbd4-46ec-b72c-676c64044587-c000.snappy.parquet\n",
      "-rw-r--r--   1 saxsa supergroup        655 2019-06-22 14:25 /consulta_parquet/part-00118-bd2c1b75-dbd4-46ec-b72c-676c64044587-c000.snappy.parquet\n",
      "-rw-r--r--   1 saxsa supergroup        623 2019-06-22 14:25 /consulta_parquet/part-00119-bd2c1b75-dbd4-46ec-b72c-676c64044587-c000.snappy.parquet\n",
      "-rw-r--r--   1 saxsa supergroup        623 2019-06-22 14:25 /consulta_parquet/part-00120-bd2c1b75-dbd4-46ec-b72c-676c64044587-c000.snappy.parquet\n",
      "-rw-r--r--   1 saxsa supergroup        633 2019-06-22 14:25 /consulta_parquet/part-00121-bd2c1b75-dbd4-46ec-b72c-676c64044587-c000.snappy.parquet\n",
      "-rw-r--r--   1 saxsa supergroup        646 2019-06-22 14:25 /consulta_parquet/part-00122-bd2c1b75-dbd4-46ec-b72c-676c64044587-c000.snappy.parquet\n",
      "-rw-r--r--   1 saxsa supergroup        641 2019-06-22 14:25 /consulta_parquet/part-00123-bd2c1b75-dbd4-46ec-b72c-676c64044587-c000.snappy.parquet\n",
      "-rw-r--r--   1 saxsa supergroup        623 2019-06-22 14:25 /consulta_parquet/part-00124-bd2c1b75-dbd4-46ec-b72c-676c64044587-c000.snappy.parquet\n",
      "-rw-r--r--   1 saxsa supergroup        628 2019-06-22 14:25 /consulta_parquet/part-00125-bd2c1b75-dbd4-46ec-b72c-676c64044587-c000.snappy.parquet\n",
      "-rw-r--r--   1 saxsa supergroup        663 2019-06-22 14:25 /consulta_parquet/part-00126-bd2c1b75-dbd4-46ec-b72c-676c64044587-c000.snappy.parquet\n",
      "-rw-r--r--   1 saxsa supergroup        617 2019-06-22 14:25 /consulta_parquet/part-00127-bd2c1b75-dbd4-46ec-b72c-676c64044587-c000.snappy.parquet\n",
      "-rw-r--r--   1 saxsa supergroup        633 2019-06-22 14:25 /consulta_parquet/part-00128-bd2c1b75-dbd4-46ec-b72c-676c64044587-c000.snappy.parquet\n",
      "-rw-r--r--   1 saxsa supergroup        641 2019-06-22 14:25 /consulta_parquet/part-00129-bd2c1b75-dbd4-46ec-b72c-676c64044587-c000.snappy.parquet\n",
      "-rw-r--r--   1 saxsa supergroup        668 2019-06-22 14:25 /consulta_parquet/part-00130-bd2c1b75-dbd4-46ec-b72c-676c64044587-c000.snappy.parquet\n",
      "-rw-r--r--   1 saxsa supergroup        645 2019-06-22 14:25 /consulta_parquet/part-00131-bd2c1b75-dbd4-46ec-b72c-676c64044587-c000.snappy.parquet\n",
      "-rw-r--r--   1 saxsa supergroup        641 2019-06-22 14:25 /consulta_parquet/part-00132-bd2c1b75-dbd4-46ec-b72c-676c64044587-c000.snappy.parquet\n",
      "-rw-r--r--   1 saxsa supergroup        641 2019-06-22 14:25 /consulta_parquet/part-00133-bd2c1b75-dbd4-46ec-b72c-676c64044587-c000.snappy.parquet\n",
      "-rw-r--r--   1 saxsa supergroup        645 2019-06-22 14:25 /consulta_parquet/part-00134-bd2c1b75-dbd4-46ec-b72c-676c64044587-c000.snappy.parquet\n",
      "-rw-r--r--   1 saxsa supergroup        657 2019-06-22 14:25 /consulta_parquet/part-00135-bd2c1b75-dbd4-46ec-b72c-676c64044587-c000.snappy.parquet\n",
      "-rw-r--r--   1 saxsa supergroup        649 2019-06-22 14:25 /consulta_parquet/part-00136-bd2c1b75-dbd4-46ec-b72c-676c64044587-c000.snappy.parquet\n",
      "-rw-r--r--   1 saxsa supergroup        645 2019-06-22 14:25 /consulta_parquet/part-00137-bd2c1b75-dbd4-46ec-b72c-676c64044587-c000.snappy.parquet\n",
      "-rw-r--r--   1 saxsa supergroup        680 2019-06-22 14:25 /consulta_parquet/part-00138-bd2c1b75-dbd4-46ec-b72c-676c64044587-c000.snappy.parquet\n",
      "-rw-r--r--   1 saxsa supergroup        680 2019-06-22 14:25 /consulta_parquet/part-00139-bd2c1b75-dbd4-46ec-b72c-676c64044587-c000.snappy.parquet\n",
      "-rw-r--r--   1 saxsa supergroup        657 2019-06-22 14:25 /consulta_parquet/part-00140-bd2c1b75-dbd4-46ec-b72c-676c64044587-c000.snappy.parquet\n",
      "-rw-r--r--   1 saxsa supergroup        680 2019-06-22 14:25 /consulta_parquet/part-00141-bd2c1b75-dbd4-46ec-b72c-676c64044587-c000.snappy.parquet\n",
      "-rw-r--r--   1 saxsa supergroup        688 2019-06-22 14:25 /consulta_parquet/part-00142-bd2c1b75-dbd4-46ec-b72c-676c64044587-c000.snappy.parquet\n",
      "-rw-r--r--   1 saxsa supergroup        684 2019-06-22 14:25 /consulta_parquet/part-00143-bd2c1b75-dbd4-46ec-b72c-676c64044587-c000.snappy.parquet\n",
      "-rw-r--r--   1 saxsa supergroup        708 2019-06-22 14:25 /consulta_parquet/part-00144-bd2c1b75-dbd4-46ec-b72c-676c64044587-c000.snappy.parquet\n",
      "-rw-r--r--   1 saxsa supergroup        773 2019-06-22 14:25 /consulta_parquet/part-00145-bd2c1b75-dbd4-46ec-b72c-676c64044587-c000.snappy.parquet\n",
      "-rw-r--r--   1 saxsa supergroup        781 2019-06-22 14:25 /consulta_parquet/part-00146-bd2c1b75-dbd4-46ec-b72c-676c64044587-c000.snappy.parquet\n",
      "-rw-r--r--   1 saxsa supergroup        878 2019-06-22 14:25 /consulta_parquet/part-00147-bd2c1b75-dbd4-46ec-b72c-676c64044587-c000.snappy.parquet\n",
      "-rw-r--r--   1 saxsa supergroup       1122 2019-06-22 14:25 /consulta_parquet/part-00148-bd2c1b75-dbd4-46ec-b72c-676c64044587-c000.snappy.parquet\n"
     ]
    }
   ],
   "source": [
    "%%bash\n",
    "\n",
    "hdfs dfs -ls /consulta_parquet"
   ]
  },
  {
   "cell_type": "code",
   "execution_count": 15,
   "metadata": {},
   "outputs": [
    {
     "name": "stderr",
     "output_type": "stream",
     "text": [
      "The code failed because of a fatal error:\n",
      "\tSession 6 did not start up in 60 seconds..\n",
      "\n",
      "Some things to try:\n",
      "a) Make sure Spark has enough available resources for Jupyter to create a Spark context.\n",
      "b) Contact your Jupyter administrator to make sure the Spark magics library is configured correctly.\n",
      "c) Restart the kernel.\n"
     ]
    }
   ],
   "source": [
    "sc"
   ]
  },
  {
   "cell_type": "code",
   "execution_count": 14,
   "metadata": {},
   "outputs": [
    {
     "name": "stderr",
     "output_type": "stream",
     "text": [
      "The code failed because of a fatal error:\n",
      "\tSession 6 did not start up in 60 seconds..\n",
      "\n",
      "Some things to try:\n",
      "a) Make sure Spark has enough available resources for Jupyter to create a Spark context.\n",
      "b) Contact your Jupyter administrator to make sure the Spark magics library is configured correctly.\n",
      "c) Restart the kernel.\n"
     ]
    }
   ],
   "source": [
    "df_par = spark.read.parquet('/consulta_parquet')"
   ]
  },
  {
   "cell_type": "code",
   "execution_count": 2,
   "metadata": {},
   "outputs": [
    {
     "name": "stderr",
     "output_type": "stream",
     "text": [
      "The code failed because of a fatal error:\n",
      "\tSession 6 did not start up in 60 seconds..\n",
      "\n",
      "Some things to try:\n",
      "a) Make sure Spark has enough available resources for Jupyter to create a Spark context.\n",
      "b) Contact your Jupyter administrator to make sure the Spark magics library is configured correctly.\n",
      "c) Restart the kernel.\n"
     ]
    }
   ],
   "source": [
    "df_par.sort('count', ascending=False).show()"
   ]
  },
  {
   "cell_type": "code",
   "execution_count": 3,
   "metadata": {},
   "outputs": [
    {
     "name": "stderr",
     "output_type": "stream",
     "text": [
      "The code failed because of a fatal error:\n",
      "\tSession 6 did not start up in 60 seconds..\n",
      "\n",
      "Some things to try:\n",
      "a) Make sure Spark has enough available resources for Jupyter to create a Spark context.\n",
      "b) Contact your Jupyter administrator to make sure the Spark magics library is configured correctly.\n",
      "c) Restart the kernel.\n"
     ]
    }
   ],
   "source": [
    "df_mon = spark.read.format(\"com.mongodb.spark.sql.DefaultSource\")\\\n",
    "    .option(\"spark.mongodb.input.uri\", \"mongodb://127.0.0.1/bimbodb.producto?readPreference=primaryPreferred\")\\\n",
    "    .option(\"spark.mongodb.output.uri\", \"mongodb://127.0.0.1/bimbodb.producto\").load()"
   ]
  },
  {
   "cell_type": "code",
   "execution_count": 4,
   "metadata": {},
   "outputs": [
    {
     "name": "stderr",
     "output_type": "stream",
     "text": [
      "The code failed because of a fatal error:\n",
      "\tSession 6 did not start up in 60 seconds..\n",
      "\n",
      "Some things to try:\n",
      "a) Make sure Spark has enough available resources for Jupyter to create a Spark context.\n",
      "b) Contact your Jupyter administrator to make sure the Spark magics library is configured correctly.\n",
      "c) Restart the kernel.\n"
     ]
    }
   ],
   "source": [
    "df_mon = df_mon.drop('_id')\n",
    "df_mon.show()"
   ]
  },
  {
   "cell_type": "code",
   "execution_count": 5,
   "metadata": {},
   "outputs": [
    {
     "name": "stderr",
     "output_type": "stream",
     "text": [
      "The code failed because of a fatal error:\n",
      "\tSession 6 did not start up in 60 seconds..\n",
      "\n",
      "Some things to try:\n",
      "a) Make sure Spark has enough available resources for Jupyter to create a Spark context.\n",
      "b) Contact your Jupyter administrator to make sure the Spark magics library is configured correctly.\n",
      "c) Restart the kernel.\n"
     ]
    }
   ],
   "source": [
    "df_my = spark.read.format(\"jdbc\").options(\n",
    "    url=\"jdbc:mysql://localhost/bimbodb\",\n",
    "    driver=\"com.mysql.jdbc.Driver\",\n",
    "    dbtable=\"test\",\n",
    "    user=\"saxsauser\",\n",
    "    password=\"ggsaXsa\").load()"
   ]
  },
  {
   "cell_type": "code",
   "execution_count": 6,
   "metadata": {},
   "outputs": [
    {
     "name": "stderr",
     "output_type": "stream",
     "text": [
      "The code failed because of a fatal error:\n",
      "\tSession 6 did not start up in 60 seconds..\n",
      "\n",
      "Some things to try:\n",
      "a) Make sure Spark has enough available resources for Jupyter to create a Spark context.\n",
      "b) Contact your Jupyter administrator to make sure the Spark magics library is configured correctly.\n",
      "c) Restart the kernel.\n"
     ]
    }
   ],
   "source": [
    "df_my.show()"
   ]
  },
  {
   "cell_type": "code",
   "execution_count": 7,
   "metadata": {},
   "outputs": [
    {
     "name": "stderr",
     "output_type": "stream",
     "text": [
      "The code failed because of a fatal error:\n",
      "\tSession 6 did not start up in 60 seconds..\n",
      "\n",
      "Some things to try:\n",
      "a) Make sure Spark has enough available resources for Jupyter to create a Spark context.\n",
      "b) Contact your Jupyter administrator to make sure the Spark magics library is configured correctly.\n",
      "c) Restart the kernel.\n"
     ]
    }
   ],
   "source": [
    "from pyspark.sql.functions import col\n",
    "x = df_par.filter((col(\"Producto_ID\") == 1250) | (col(\"Producto_ID\") == 1242) | (col(\"Producto_ID\") == 2233))\n",
    "y = df_mon.filter((col('Producto_ID') == 1250) | (col('Producto_ID') == 1242) | (col(\"Producto_ID\") == 2233))\n",
    "x.join(y, x.Producto_ID == y.Producto_ID, 'outer').show()"
   ]
  },
  {
   "cell_type": "code",
   "execution_count": null,
   "metadata": {},
   "outputs": [],
   "source": []
  }
 ],
 "metadata": {
  "kernelspec": {
   "display_name": "PySpark3",
   "language": "",
   "name": "pyspark3kernel"
  },
  "language_info": {
   "codemirror_mode": {
    "name": "python",
    "version": 3
   },
   "mimetype": "text/x-python",
   "name": "pyspark3",
   "pygments_lexer": "python3"
  }
 },
 "nbformat": 4,
 "nbformat_minor": 2
}
